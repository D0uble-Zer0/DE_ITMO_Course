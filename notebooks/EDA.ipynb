{
 "cells": [
  {
   "cell_type": "markdown",
   "id": "ea5fdf28",
   "metadata": {},
   "source": [
    "<h1 id=\"header\" align=\"center\">\n",
    "  Car Price Prediction - Exploratory data analysis.\n",
    "  <img src=\"https://media.tenor.com/UtkIFBDTlAAAAAAi/car-cars.gif\" width=\"40px\"/>\n",
    "</h1>\n",
    "\n",
    "---\n",
    "\n",
    "### Вступление\n",
    "\n",
    "_EDA(разведочный анализ данных)_ - это процесс изучения основных свойств данных, нахождения в них закономерностей, аномалий и различных распределений, построений моделей с помощью визуализации.\n",
    "\n",
    "Известно, что не существует единой последовательности операций для выполнения анализа, но есть **базовые пункты**, которые необходимо выполнить.\n",
    "\n",
    "Данный разведочный анализ данных проводится в рамках изучения _дисциплины \"Инижиниринг управления данными\" в университете ИТМО_ и будет проводиться на **выбранном в kaggle dataset**.\n",
    "\n",
    "### Информация об dataset.\n",
    "\n",
    "_Dataset - Car Price Prediction Challenge_ - является набором данных об различных проданных автомобилях с их параметрами.  \n",
    "Например:\n",
    "1) Manufacturer (Производитель)\n",
    "2) Leather interior (Кожаный салон)\n",
    "3) Fuel type (Тип топлива)\n",
    "4) ...\n",
    "\n",
    "Всего таких параметров - **15**.\n",
    "\n",
    "Ссылка на оригинальный dataset - https://www.kaggle.com/datasets/deepcontractor/car-price-prediction-challenge?resource=download  \n",
    "Ссылка на dataset, сохраненный в Google Drive - https://docs.google.com/spreadsheets/d/1PMhtD3LqyCzlZMEh-8aDPxre0wPw8v0U/edit?usp=drive_link&ouid=100105970921534140705&rtpof=true&sd=true\n",
    "\n",
    "\n",
    "### Цель (target) EDA.\n",
    "\n",
    "Целью текущего EDA является -  __выявление ключевых факторов (features), влияющих на стоимость__.  \n",
    "  \n",
    "Кроме того передо мной стоит цель соответствовать следующим __метрикам__ (как минимум первым двум):\n",
    "\n",
    "![Metrics](./images/Metrics.png)\n",
    "\n",
    "---\n",
    "\n",
    "### Этапы EDA.\n",
    "\n",
    "#### 1) Загрузка данных с сайта и сохранения их в директории для дальнейшего взаимодействия\n",
    "\n",
    ">[!IMPORTANT]  \n",
    ">Не забываем добавить в нашего окружение (Conda+Poetry) необходимые зависимости:\n",
    ">1) _pandas_\n",
    ">2) _numpy_\n",
    ">3) _seaborn_\n",
    ">4) _matplotlib_\n",
    ">5) _openpyxl_\n",
    ">Всегда активируем окружение как рассказано в файле [README.md](../README.md).\n",
    "\n",
    "Первостепенно, так как наш датасет лежит не в директории проекта, необходимо выполнить создание папки data в корневой директории. А затем выполнить загрузку туда \"сырых данных\" в формате xlsx.  \n",
    "Также в данном пункте выполним подключение основных библиотек для проведения дальнейшего EDA.\n",
    "\n",
    "\n",
    "\n",
    "\n",
    "\n"
   ]
  },
  {
   "cell_type": "code",
   "execution_count": 199,
   "id": "b1c10e99",
   "metadata": {},
   "outputs": [
    {
     "name": "stdout",
     "output_type": "stream",
     "text": [
      "------------------------------------------------------------\n",
      "Dataset прочитан из директории data...\n",
      "------------------------------------------------------------\n"
     ]
    }
   ],
   "source": [
    "import os\n",
    "import requests\n",
    "import pandas as pd\n",
    "import numpy as np\n",
    "import seaborn as sns\n",
    "import matplotlib.pyplot as plt\n",
    "%matplotlib inline\n",
    "sns.set(color_codes=True)\n",
    "\n",
    "FILE_ID = \"1PMhtD3LqyCzlZMEh-8aDPxre0wPw8v0U\"  # ID файла на Google Drive\n",
    "file_url = f\"https://drive.google.com/uc?id={FILE_ID}\"\n",
    "\n",
    "pd.set_option(\"display.max_columns\", 20) # убирает ограничения отображения dataset\n",
    "pd.set_option(\"display.max_rows\", 150)\n",
    "\n",
    "data_dir = \"../data\" # создаем директорию data в директории notebooks.\n",
    "if not os.path.exists(data_dir):\n",
    "    os.makedirs(data_dir) \n",
    "\n",
    "data_path = os.path.join(data_dir, \"data_car.xlsx\") # путь до файла dataset\n",
    "\n",
    "if os.path.isfile(data_path): # если файл есть в data - читаем, если нет - скачиваем\n",
    "    df = pd.read_excel(data_path)\n",
    "    df = df.replace(\"-\", pd.NA)  # убираем все ложные пропуски на NaN\n",
    "    print(f\"{'-'*60}\")\n",
    "    print (\"Dataset прочитан из директории data...\")\n",
    "    print(f\"{'-'*60}\")\n",
    "else:\n",
    "    response = requests.get(file_url)\n",
    "    f_path = os.path.join(data_dir, \"data_car.xlsx\")\n",
    "    with open(f_path, \"wb\") as f:\n",
    "        f.write(response.content)\n",
    "\n",
    "    df = pd.read_excel(f_path)\n",
    "    df = df.replace(\"-\", pd.NA)  # убираем все ложные пропуски на NaN\n",
    "    print(f\"{'-'*60}\")\n",
    "    print(\"Dataset загружен в директорию data и прочитан...\")\n",
    "    print(f\"{'-'*60}\")\n"
   ]
  },
  {
   "cell_type": "markdown",
   "id": "d7d6fcb4",
   "metadata": {},
   "source": [
    "#### 2) Первичный осмотр данных\n",
    "\n",
    "После чтения/загрузки dataset в директории необходимо посмотреть, что было загружено.  \n",
    "Кроме того необходимо первично оценить данные, которыми наполнен файл xlsx.  \n",
    "Поэтому выведем 10 первых и 10 последних значений dataset. И проверим вообще количество признаков и элементов."
   ]
  },
  {
   "cell_type": "code",
   "execution_count": 200,
   "id": "5675ac36",
   "metadata": {},
   "outputs": [
    {
     "data": {
      "text/html": [
       "<div>\n",
       "<style scoped>\n",
       "    .dataframe tbody tr th:only-of-type {\n",
       "        vertical-align: middle;\n",
       "    }\n",
       "\n",
       "    .dataframe tbody tr th {\n",
       "        vertical-align: top;\n",
       "    }\n",
       "\n",
       "    .dataframe thead th {\n",
       "        text-align: right;\n",
       "    }\n",
       "</style>\n",
       "<table border=\"1\" class=\"dataframe\">\n",
       "  <thead>\n",
       "    <tr style=\"text-align: right;\">\n",
       "      <th></th>\n",
       "      <th>ID</th>\n",
       "      <th>Price</th>\n",
       "      <th>Levy</th>\n",
       "      <th>Manufacturer</th>\n",
       "      <th>Model</th>\n",
       "      <th>Prod. year</th>\n",
       "      <th>Category</th>\n",
       "      <th>Leather interior</th>\n",
       "      <th>Fuel type</th>\n",
       "      <th>Engine volume</th>\n",
       "      <th>Mileage</th>\n",
       "      <th>Cylinders</th>\n",
       "      <th>Gear box type</th>\n",
       "      <th>Drive wheels</th>\n",
       "      <th>Doors</th>\n",
       "      <th>Wheel</th>\n",
       "      <th>Color</th>\n",
       "      <th>Airbags</th>\n",
       "    </tr>\n",
       "  </thead>\n",
       "  <tbody>\n",
       "    <tr>\n",
       "      <th>0</th>\n",
       "      <td>45654403</td>\n",
       "      <td>13328</td>\n",
       "      <td>1399</td>\n",
       "      <td>LEXUS</td>\n",
       "      <td>RX 450</td>\n",
       "      <td>2010</td>\n",
       "      <td>Jeep</td>\n",
       "      <td>Yes</td>\n",
       "      <td>Hybrid</td>\n",
       "      <td>3.5</td>\n",
       "      <td>186005 km</td>\n",
       "      <td>6.0</td>\n",
       "      <td>Automatic</td>\n",
       "      <td>4x4</td>\n",
       "      <td>04-May</td>\n",
       "      <td>Left wheel</td>\n",
       "      <td>Silver</td>\n",
       "      <td>12</td>\n",
       "    </tr>\n",
       "    <tr>\n",
       "      <th>1</th>\n",
       "      <td>44731507</td>\n",
       "      <td>16621</td>\n",
       "      <td>1018</td>\n",
       "      <td>CHEVROLET</td>\n",
       "      <td>Equinox</td>\n",
       "      <td>2011</td>\n",
       "      <td>Jeep</td>\n",
       "      <td>No</td>\n",
       "      <td>Petrol</td>\n",
       "      <td>3</td>\n",
       "      <td>192000 km</td>\n",
       "      <td>6.0</td>\n",
       "      <td>Tiptronic</td>\n",
       "      <td>4x4</td>\n",
       "      <td>04-May</td>\n",
       "      <td>Left wheel</td>\n",
       "      <td>Black</td>\n",
       "      <td>8</td>\n",
       "    </tr>\n",
       "    <tr>\n",
       "      <th>2</th>\n",
       "      <td>45774419</td>\n",
       "      <td>8467</td>\n",
       "      <td>&lt;NA&gt;</td>\n",
       "      <td>HONDA</td>\n",
       "      <td>FIT</td>\n",
       "      <td>2006</td>\n",
       "      <td>Hatchback</td>\n",
       "      <td>No</td>\n",
       "      <td>Petrol</td>\n",
       "      <td>1.3</td>\n",
       "      <td>200000 km</td>\n",
       "      <td>4.0</td>\n",
       "      <td>Variator</td>\n",
       "      <td>Front</td>\n",
       "      <td>04-May</td>\n",
       "      <td>Right-hand drive</td>\n",
       "      <td>Black</td>\n",
       "      <td>2</td>\n",
       "    </tr>\n",
       "    <tr>\n",
       "      <th>3</th>\n",
       "      <td>45769185</td>\n",
       "      <td>3607</td>\n",
       "      <td>862</td>\n",
       "      <td>FORD</td>\n",
       "      <td>Escape</td>\n",
       "      <td>2011</td>\n",
       "      <td>Jeep</td>\n",
       "      <td>Yes</td>\n",
       "      <td>Hybrid</td>\n",
       "      <td>2.5</td>\n",
       "      <td>168966 km</td>\n",
       "      <td>4.0</td>\n",
       "      <td>Automatic</td>\n",
       "      <td>4x4</td>\n",
       "      <td>04-May</td>\n",
       "      <td>Left wheel</td>\n",
       "      <td>White</td>\n",
       "      <td>0</td>\n",
       "    </tr>\n",
       "    <tr>\n",
       "      <th>4</th>\n",
       "      <td>45809263</td>\n",
       "      <td>11726</td>\n",
       "      <td>446</td>\n",
       "      <td>HONDA</td>\n",
       "      <td>FIT</td>\n",
       "      <td>2014</td>\n",
       "      <td>Hatchback</td>\n",
       "      <td>Yes</td>\n",
       "      <td>Petrol</td>\n",
       "      <td>1.3</td>\n",
       "      <td>91901 km</td>\n",
       "      <td>4.0</td>\n",
       "      <td>Automatic</td>\n",
       "      <td>Front</td>\n",
       "      <td>04-May</td>\n",
       "      <td>Left wheel</td>\n",
       "      <td>Silver</td>\n",
       "      <td>4</td>\n",
       "    </tr>\n",
       "    <tr>\n",
       "      <th>5</th>\n",
       "      <td>45802912</td>\n",
       "      <td>39493</td>\n",
       "      <td>891</td>\n",
       "      <td>HYUNDAI</td>\n",
       "      <td>Santa FE</td>\n",
       "      <td>2016</td>\n",
       "      <td>Jeep</td>\n",
       "      <td>Yes</td>\n",
       "      <td>Diesel</td>\n",
       "      <td>2</td>\n",
       "      <td>160931 km</td>\n",
       "      <td>4.0</td>\n",
       "      <td>Automatic</td>\n",
       "      <td>Front</td>\n",
       "      <td>04-May</td>\n",
       "      <td>Left wheel</td>\n",
       "      <td>White</td>\n",
       "      <td>4</td>\n",
       "    </tr>\n",
       "    <tr>\n",
       "      <th>6</th>\n",
       "      <td>45656768</td>\n",
       "      <td>1803</td>\n",
       "      <td>761</td>\n",
       "      <td>TOYOTA</td>\n",
       "      <td>Prius</td>\n",
       "      <td>2010</td>\n",
       "      <td>Hatchback</td>\n",
       "      <td>Yes</td>\n",
       "      <td>Hybrid</td>\n",
       "      <td>1.8</td>\n",
       "      <td>258909 km</td>\n",
       "      <td>4.0</td>\n",
       "      <td>Automatic</td>\n",
       "      <td>Front</td>\n",
       "      <td>04-May</td>\n",
       "      <td>Left wheel</td>\n",
       "      <td>White</td>\n",
       "      <td>12</td>\n",
       "    </tr>\n",
       "    <tr>\n",
       "      <th>7</th>\n",
       "      <td>45816158</td>\n",
       "      <td>549</td>\n",
       "      <td>751</td>\n",
       "      <td>HYUNDAI</td>\n",
       "      <td>Sonata</td>\n",
       "      <td>2013</td>\n",
       "      <td>Sedan</td>\n",
       "      <td>Yes</td>\n",
       "      <td>Petrol</td>\n",
       "      <td>2.4</td>\n",
       "      <td>216118 km</td>\n",
       "      <td>4.0</td>\n",
       "      <td>Automatic</td>\n",
       "      <td>Front</td>\n",
       "      <td>04-May</td>\n",
       "      <td>Left wheel</td>\n",
       "      <td>Grey</td>\n",
       "      <td>12</td>\n",
       "    </tr>\n",
       "    <tr>\n",
       "      <th>8</th>\n",
       "      <td>45641395</td>\n",
       "      <td>1098</td>\n",
       "      <td>394</td>\n",
       "      <td>TOYOTA</td>\n",
       "      <td>Camry</td>\n",
       "      <td>2014</td>\n",
       "      <td>Sedan</td>\n",
       "      <td>Yes</td>\n",
       "      <td>Hybrid</td>\n",
       "      <td>2.5</td>\n",
       "      <td>398069 km</td>\n",
       "      <td>4.0</td>\n",
       "      <td>Automatic</td>\n",
       "      <td>Front</td>\n",
       "      <td>04-May</td>\n",
       "      <td>Left wheel</td>\n",
       "      <td>Black</td>\n",
       "      <td>12</td>\n",
       "    </tr>\n",
       "    <tr>\n",
       "      <th>9</th>\n",
       "      <td>45756839</td>\n",
       "      <td>26657</td>\n",
       "      <td>&lt;NA&gt;</td>\n",
       "      <td>LEXUS</td>\n",
       "      <td>RX 350</td>\n",
       "      <td>2007</td>\n",
       "      <td>Jeep</td>\n",
       "      <td>Yes</td>\n",
       "      <td>Petrol</td>\n",
       "      <td>3.5</td>\n",
       "      <td>128500 km</td>\n",
       "      <td>6.0</td>\n",
       "      <td>Automatic</td>\n",
       "      <td>4x4</td>\n",
       "      <td>04-May</td>\n",
       "      <td>Left wheel</td>\n",
       "      <td>Silver</td>\n",
       "      <td>12</td>\n",
       "    </tr>\n",
       "  </tbody>\n",
       "</table>\n",
       "</div>"
      ],
      "text/plain": [
       "         ID  Price  Levy Manufacturer     Model  Prod. year   Category  \\\n",
       "0  45654403  13328  1399        LEXUS    RX 450        2010       Jeep   \n",
       "1  44731507  16621  1018    CHEVROLET   Equinox        2011       Jeep   \n",
       "2  45774419   8467  <NA>        HONDA       FIT        2006  Hatchback   \n",
       "3  45769185   3607   862         FORD    Escape        2011       Jeep   \n",
       "4  45809263  11726   446        HONDA       FIT        2014  Hatchback   \n",
       "5  45802912  39493   891      HYUNDAI  Santa FE        2016       Jeep   \n",
       "6  45656768   1803   761       TOYOTA     Prius        2010  Hatchback   \n",
       "7  45816158    549   751      HYUNDAI    Sonata        2013      Sedan   \n",
       "8  45641395   1098   394       TOYOTA     Camry        2014      Sedan   \n",
       "9  45756839  26657  <NA>        LEXUS    RX 350        2007       Jeep   \n",
       "\n",
       "  Leather interior Fuel type Engine volume    Mileage  Cylinders  \\\n",
       "0              Yes    Hybrid           3.5  186005 km        6.0   \n",
       "1               No    Petrol             3  192000 km        6.0   \n",
       "2               No    Petrol           1.3  200000 km        4.0   \n",
       "3              Yes    Hybrid           2.5  168966 km        4.0   \n",
       "4              Yes    Petrol           1.3   91901 km        4.0   \n",
       "5              Yes    Diesel             2  160931 km        4.0   \n",
       "6              Yes    Hybrid           1.8  258909 km        4.0   \n",
       "7              Yes    Petrol           2.4  216118 km        4.0   \n",
       "8              Yes    Hybrid           2.5  398069 km        4.0   \n",
       "9              Yes    Petrol           3.5  128500 km        6.0   \n",
       "\n",
       "  Gear box type Drive wheels   Doors             Wheel   Color  Airbags  \n",
       "0     Automatic          4x4  04-May        Left wheel  Silver       12  \n",
       "1     Tiptronic          4x4  04-May        Left wheel   Black        8  \n",
       "2      Variator        Front  04-May  Right-hand drive   Black        2  \n",
       "3     Automatic          4x4  04-May        Left wheel   White        0  \n",
       "4     Automatic        Front  04-May        Left wheel  Silver        4  \n",
       "5     Automatic        Front  04-May        Left wheel   White        4  \n",
       "6     Automatic        Front  04-May        Left wheel   White       12  \n",
       "7     Automatic        Front  04-May        Left wheel    Grey       12  \n",
       "8     Automatic        Front  04-May        Left wheel   Black       12  \n",
       "9     Automatic          4x4  04-May        Left wheel  Silver       12  "
      ]
     },
     "execution_count": 200,
     "metadata": {},
     "output_type": "execute_result"
    }
   ],
   "source": [
    "df.head(10)        "
   ]
  },
  {
   "cell_type": "code",
   "execution_count": 201,
   "id": "e44adce7",
   "metadata": {},
   "outputs": [
    {
     "data": {
      "text/html": [
       "<div>\n",
       "<style scoped>\n",
       "    .dataframe tbody tr th:only-of-type {\n",
       "        vertical-align: middle;\n",
       "    }\n",
       "\n",
       "    .dataframe tbody tr th {\n",
       "        vertical-align: top;\n",
       "    }\n",
       "\n",
       "    .dataframe thead th {\n",
       "        text-align: right;\n",
       "    }\n",
       "</style>\n",
       "<table border=\"1\" class=\"dataframe\">\n",
       "  <thead>\n",
       "    <tr style=\"text-align: right;\">\n",
       "      <th></th>\n",
       "      <th>ID</th>\n",
       "      <th>Price</th>\n",
       "      <th>Levy</th>\n",
       "      <th>Manufacturer</th>\n",
       "      <th>Model</th>\n",
       "      <th>Prod. year</th>\n",
       "      <th>Category</th>\n",
       "      <th>Leather interior</th>\n",
       "      <th>Fuel type</th>\n",
       "      <th>Engine volume</th>\n",
       "      <th>Mileage</th>\n",
       "      <th>Cylinders</th>\n",
       "      <th>Gear box type</th>\n",
       "      <th>Drive wheels</th>\n",
       "      <th>Doors</th>\n",
       "      <th>Wheel</th>\n",
       "      <th>Color</th>\n",
       "      <th>Airbags</th>\n",
       "    </tr>\n",
       "  </thead>\n",
       "  <tbody>\n",
       "    <tr>\n",
       "      <th>19227</th>\n",
       "      <td>45769427</td>\n",
       "      <td>29793</td>\n",
       "      <td>1053</td>\n",
       "      <td>MERCEDES-BENZ</td>\n",
       "      <td>E 350</td>\n",
       "      <td>2014</td>\n",
       "      <td>Sedan</td>\n",
       "      <td>Yes</td>\n",
       "      <td>Diesel</td>\n",
       "      <td>3.5</td>\n",
       "      <td>219030 km</td>\n",
       "      <td>6.0</td>\n",
       "      <td>Automatic</td>\n",
       "      <td>4x4</td>\n",
       "      <td>04-May</td>\n",
       "      <td>Left wheel</td>\n",
       "      <td>Black</td>\n",
       "      <td>12</td>\n",
       "    </tr>\n",
       "    <tr>\n",
       "      <th>19228</th>\n",
       "      <td>45773726</td>\n",
       "      <td>706</td>\n",
       "      <td>1850</td>\n",
       "      <td>MERCEDES-BENZ</td>\n",
       "      <td>E 350</td>\n",
       "      <td>2008</td>\n",
       "      <td>Sedan</td>\n",
       "      <td>Yes</td>\n",
       "      <td>Diesel</td>\n",
       "      <td>3.5</td>\n",
       "      <td>122874 km</td>\n",
       "      <td>6.0</td>\n",
       "      <td>Automatic</td>\n",
       "      <td>Rear</td>\n",
       "      <td>04-May</td>\n",
       "      <td>Left wheel</td>\n",
       "      <td>Black</td>\n",
       "      <td>12</td>\n",
       "    </tr>\n",
       "    <tr>\n",
       "      <th>19229</th>\n",
       "      <td>39977395</td>\n",
       "      <td>50</td>\n",
       "      <td>&lt;NA&gt;</td>\n",
       "      <td>TOYOTA</td>\n",
       "      <td>Prius</td>\n",
       "      <td>2008</td>\n",
       "      <td>Hatchback</td>\n",
       "      <td>No</td>\n",
       "      <td>Hybrid</td>\n",
       "      <td>1.5</td>\n",
       "      <td>150000 km</td>\n",
       "      <td>4.0</td>\n",
       "      <td>Automatic</td>\n",
       "      <td>Front</td>\n",
       "      <td>04-May</td>\n",
       "      <td>Left wheel</td>\n",
       "      <td>Silver</td>\n",
       "      <td>6</td>\n",
       "    </tr>\n",
       "    <tr>\n",
       "      <th>19230</th>\n",
       "      <td>45760891</td>\n",
       "      <td>470</td>\n",
       "      <td>645</td>\n",
       "      <td>TOYOTA</td>\n",
       "      <td>Prius</td>\n",
       "      <td>2011</td>\n",
       "      <td>Hatchback</td>\n",
       "      <td>Yes</td>\n",
       "      <td>Hybrid</td>\n",
       "      <td>1.8</td>\n",
       "      <td>307325 km</td>\n",
       "      <td>4.0</td>\n",
       "      <td>Automatic</td>\n",
       "      <td>Front</td>\n",
       "      <td>04-May</td>\n",
       "      <td>Left wheel</td>\n",
       "      <td>Silver</td>\n",
       "      <td>12</td>\n",
       "    </tr>\n",
       "    <tr>\n",
       "      <th>19231</th>\n",
       "      <td>45772306</td>\n",
       "      <td>5802</td>\n",
       "      <td>1055</td>\n",
       "      <td>MERCEDES-BENZ</td>\n",
       "      <td>E 350</td>\n",
       "      <td>2013</td>\n",
       "      <td>Sedan</td>\n",
       "      <td>Yes</td>\n",
       "      <td>Diesel</td>\n",
       "      <td>3.5</td>\n",
       "      <td>107800 km</td>\n",
       "      <td>6.0</td>\n",
       "      <td>Automatic</td>\n",
       "      <td>Rear</td>\n",
       "      <td>04-May</td>\n",
       "      <td>Left wheel</td>\n",
       "      <td>Grey</td>\n",
       "      <td>12</td>\n",
       "    </tr>\n",
       "    <tr>\n",
       "      <th>19232</th>\n",
       "      <td>45798355</td>\n",
       "      <td>8467</td>\n",
       "      <td>&lt;NA&gt;</td>\n",
       "      <td>MERCEDES-BENZ</td>\n",
       "      <td>CLK 200</td>\n",
       "      <td>1999</td>\n",
       "      <td>Coupe</td>\n",
       "      <td>Yes</td>\n",
       "      <td>CNG</td>\n",
       "      <td>2.0 Turbo</td>\n",
       "      <td>300000 km</td>\n",
       "      <td>4.0</td>\n",
       "      <td>Manual</td>\n",
       "      <td>Rear</td>\n",
       "      <td>02-Mar</td>\n",
       "      <td>Left wheel</td>\n",
       "      <td>Silver</td>\n",
       "      <td>5</td>\n",
       "    </tr>\n",
       "    <tr>\n",
       "      <th>19233</th>\n",
       "      <td>45778856</td>\n",
       "      <td>15681</td>\n",
       "      <td>831</td>\n",
       "      <td>HYUNDAI</td>\n",
       "      <td>Sonata</td>\n",
       "      <td>2011</td>\n",
       "      <td>Sedan</td>\n",
       "      <td>Yes</td>\n",
       "      <td>Petrol</td>\n",
       "      <td>2.4</td>\n",
       "      <td>161600 km</td>\n",
       "      <td>4.0</td>\n",
       "      <td>Tiptronic</td>\n",
       "      <td>Front</td>\n",
       "      <td>04-May</td>\n",
       "      <td>Left wheel</td>\n",
       "      <td>Red</td>\n",
       "      <td>8</td>\n",
       "    </tr>\n",
       "    <tr>\n",
       "      <th>19234</th>\n",
       "      <td>45804997</td>\n",
       "      <td>26108</td>\n",
       "      <td>836</td>\n",
       "      <td>HYUNDAI</td>\n",
       "      <td>Tucson</td>\n",
       "      <td>2010</td>\n",
       "      <td>Jeep</td>\n",
       "      <td>Yes</td>\n",
       "      <td>Diesel</td>\n",
       "      <td>2</td>\n",
       "      <td>116365 km</td>\n",
       "      <td>4.0</td>\n",
       "      <td>Automatic</td>\n",
       "      <td>Front</td>\n",
       "      <td>04-May</td>\n",
       "      <td>Left wheel</td>\n",
       "      <td>Grey</td>\n",
       "      <td>4</td>\n",
       "    </tr>\n",
       "    <tr>\n",
       "      <th>19235</th>\n",
       "      <td>45793526</td>\n",
       "      <td>5331</td>\n",
       "      <td>1288</td>\n",
       "      <td>CHEVROLET</td>\n",
       "      <td>Captiva</td>\n",
       "      <td>2007</td>\n",
       "      <td>Jeep</td>\n",
       "      <td>Yes</td>\n",
       "      <td>Diesel</td>\n",
       "      <td>2</td>\n",
       "      <td>51258 km</td>\n",
       "      <td>4.0</td>\n",
       "      <td>Automatic</td>\n",
       "      <td>Front</td>\n",
       "      <td>04-May</td>\n",
       "      <td>Left wheel</td>\n",
       "      <td>Black</td>\n",
       "      <td>4</td>\n",
       "    </tr>\n",
       "    <tr>\n",
       "      <th>19236</th>\n",
       "      <td>45813273</td>\n",
       "      <td>470</td>\n",
       "      <td>753</td>\n",
       "      <td>HYUNDAI</td>\n",
       "      <td>Sonata</td>\n",
       "      <td>2012</td>\n",
       "      <td>Sedan</td>\n",
       "      <td>Yes</td>\n",
       "      <td>Hybrid</td>\n",
       "      <td>2.4</td>\n",
       "      <td>186923 km</td>\n",
       "      <td>4.0</td>\n",
       "      <td>Automatic</td>\n",
       "      <td>Front</td>\n",
       "      <td>04-May</td>\n",
       "      <td>Left wheel</td>\n",
       "      <td>White</td>\n",
       "      <td>12</td>\n",
       "    </tr>\n",
       "  </tbody>\n",
       "</table>\n",
       "</div>"
      ],
      "text/plain": [
       "             ID  Price  Levy   Manufacturer    Model  Prod. year   Category  \\\n",
       "19227  45769427  29793  1053  MERCEDES-BENZ    E 350        2014      Sedan   \n",
       "19228  45773726    706  1850  MERCEDES-BENZ    E 350        2008      Sedan   \n",
       "19229  39977395     50  <NA>         TOYOTA    Prius        2008  Hatchback   \n",
       "19230  45760891    470   645         TOYOTA    Prius        2011  Hatchback   \n",
       "19231  45772306   5802  1055  MERCEDES-BENZ    E 350        2013      Sedan   \n",
       "19232  45798355   8467  <NA>  MERCEDES-BENZ  CLK 200        1999      Coupe   \n",
       "19233  45778856  15681   831        HYUNDAI   Sonata        2011      Sedan   \n",
       "19234  45804997  26108   836        HYUNDAI   Tucson        2010       Jeep   \n",
       "19235  45793526   5331  1288      CHEVROLET  Captiva        2007       Jeep   \n",
       "19236  45813273    470   753        HYUNDAI   Sonata        2012      Sedan   \n",
       "\n",
       "      Leather interior Fuel type Engine volume    Mileage  Cylinders  \\\n",
       "19227              Yes    Diesel           3.5  219030 km        6.0   \n",
       "19228              Yes    Diesel           3.5  122874 km        6.0   \n",
       "19229               No    Hybrid           1.5  150000 km        4.0   \n",
       "19230              Yes    Hybrid           1.8  307325 km        4.0   \n",
       "19231              Yes    Diesel           3.5  107800 km        6.0   \n",
       "19232              Yes       CNG     2.0 Turbo  300000 km        4.0   \n",
       "19233              Yes    Petrol           2.4  161600 km        4.0   \n",
       "19234              Yes    Diesel             2  116365 km        4.0   \n",
       "19235              Yes    Diesel             2   51258 km        4.0   \n",
       "19236              Yes    Hybrid           2.4  186923 km        4.0   \n",
       "\n",
       "      Gear box type Drive wheels   Doors       Wheel   Color  Airbags  \n",
       "19227     Automatic          4x4  04-May  Left wheel   Black       12  \n",
       "19228     Automatic         Rear  04-May  Left wheel   Black       12  \n",
       "19229     Automatic        Front  04-May  Left wheel  Silver        6  \n",
       "19230     Automatic        Front  04-May  Left wheel  Silver       12  \n",
       "19231     Automatic         Rear  04-May  Left wheel    Grey       12  \n",
       "19232        Manual         Rear  02-Mar  Left wheel  Silver        5  \n",
       "19233     Tiptronic        Front  04-May  Left wheel     Red        8  \n",
       "19234     Automatic        Front  04-May  Left wheel    Grey        4  \n",
       "19235     Automatic        Front  04-May  Left wheel   Black        4  \n",
       "19236     Automatic        Front  04-May  Left wheel   White       12  "
      ]
     },
     "execution_count": 201,
     "metadata": {},
     "output_type": "execute_result"
    }
   ],
   "source": [
    "df.tail(10)"
   ]
  },
  {
   "cell_type": "code",
   "execution_count": 202,
   "id": "27fbbb78",
   "metadata": {},
   "outputs": [
    {
     "data": {
      "text/plain": [
       "(19237, 18)"
      ]
     },
     "execution_count": 202,
     "metadata": {},
     "output_type": "execute_result"
    }
   ],
   "source": [
    "df.shape"
   ]
  },
  {
   "cell_type": "markdown",
   "id": "019b016a",
   "metadata": {},
   "source": [
    "Также предлагаю исследовать какие типы данных содержат 18 признаков."
   ]
  },
  {
   "cell_type": "code",
   "execution_count": 203,
   "id": "c8dbb68b",
   "metadata": {},
   "outputs": [
    {
     "data": {
      "text/plain": [
       "ID                    int64\n",
       "Price                 int64\n",
       "Levy                 object\n",
       "Manufacturer         object\n",
       "Model                object\n",
       "Prod. year            int64\n",
       "Category             object\n",
       "Leather interior     object\n",
       "Fuel type            object\n",
       "Engine volume        object\n",
       "Mileage              object\n",
       "Cylinders           float64\n",
       "Gear box type        object\n",
       "Drive wheels         object\n",
       "Doors                object\n",
       "Wheel                object\n",
       "Color                object\n",
       "Airbags               int64\n",
       "dtype: object"
      ]
     },
     "execution_count": 203,
     "metadata": {},
     "output_type": "execute_result"
    }
   ],
   "source": [
    "df.dtypes"
   ]
  },
  {
   "cell_type": "markdown",
   "id": "5ec872ab",
   "metadata": {},
   "source": [
    "#### 3) Операции над данными.\n",
    "\n",
    "После того как мы первично просмотрели наши данные, то можно выполнить опеределенные действия для дальнейшего удобства анализа.  \n",
    "Например - _решение проблемы пустых значений, дубликатов и выбросов, удаление ненужных для текущей target признаков и приведение типов_ \n",
    "\n",
    "##### 3.1) Удаление признаков\n",
    "Так как наша цель заключается в ранжировании признаков по их влиянию на ценообразование, я предлагаю удалить следующие признаки:\n",
    "- cylinders - так как основной акцент на ценообразование будет от типа двигателя, а не от количества цилиндров.\n",
    "- drive wheels - опять таки минимальный эффект на ценообразование, плюс тип привода завязан на моделе авто и его типа.\n",
    "- color - минимальное влияния на цену автомобиля.\n",
    "- airbags - минимальное влияние на цену автомобиля.\n"
   ]
  },
  {
   "cell_type": "code",
   "execution_count": 204,
   "id": "f1edc9f6",
   "metadata": {},
   "outputs": [
    {
     "data": {
      "text/html": [
       "<div>\n",
       "<style scoped>\n",
       "    .dataframe tbody tr th:only-of-type {\n",
       "        vertical-align: middle;\n",
       "    }\n",
       "\n",
       "    .dataframe tbody tr th {\n",
       "        vertical-align: top;\n",
       "    }\n",
       "\n",
       "    .dataframe thead th {\n",
       "        text-align: right;\n",
       "    }\n",
       "</style>\n",
       "<table border=\"1\" class=\"dataframe\">\n",
       "  <thead>\n",
       "    <tr style=\"text-align: right;\">\n",
       "      <th></th>\n",
       "      <th>ID</th>\n",
       "      <th>Price</th>\n",
       "      <th>Levy</th>\n",
       "      <th>Manufacturer</th>\n",
       "      <th>Model</th>\n",
       "      <th>Prod. year</th>\n",
       "      <th>Category</th>\n",
       "      <th>Leather interior</th>\n",
       "      <th>Fuel type</th>\n",
       "      <th>Engine volume</th>\n",
       "      <th>Mileage</th>\n",
       "      <th>Gear box type</th>\n",
       "      <th>Doors</th>\n",
       "      <th>Wheel</th>\n",
       "    </tr>\n",
       "  </thead>\n",
       "  <tbody>\n",
       "    <tr>\n",
       "      <th>0</th>\n",
       "      <td>45654403</td>\n",
       "      <td>13328</td>\n",
       "      <td>1399</td>\n",
       "      <td>LEXUS</td>\n",
       "      <td>RX 450</td>\n",
       "      <td>2010</td>\n",
       "      <td>Jeep</td>\n",
       "      <td>Yes</td>\n",
       "      <td>Hybrid</td>\n",
       "      <td>3.5</td>\n",
       "      <td>186005 km</td>\n",
       "      <td>Automatic</td>\n",
       "      <td>04-May</td>\n",
       "      <td>Left wheel</td>\n",
       "    </tr>\n",
       "    <tr>\n",
       "      <th>1</th>\n",
       "      <td>44731507</td>\n",
       "      <td>16621</td>\n",
       "      <td>1018</td>\n",
       "      <td>CHEVROLET</td>\n",
       "      <td>Equinox</td>\n",
       "      <td>2011</td>\n",
       "      <td>Jeep</td>\n",
       "      <td>No</td>\n",
       "      <td>Petrol</td>\n",
       "      <td>3</td>\n",
       "      <td>192000 km</td>\n",
       "      <td>Tiptronic</td>\n",
       "      <td>04-May</td>\n",
       "      <td>Left wheel</td>\n",
       "    </tr>\n",
       "    <tr>\n",
       "      <th>2</th>\n",
       "      <td>45774419</td>\n",
       "      <td>8467</td>\n",
       "      <td>&lt;NA&gt;</td>\n",
       "      <td>HONDA</td>\n",
       "      <td>FIT</td>\n",
       "      <td>2006</td>\n",
       "      <td>Hatchback</td>\n",
       "      <td>No</td>\n",
       "      <td>Petrol</td>\n",
       "      <td>1.3</td>\n",
       "      <td>200000 km</td>\n",
       "      <td>Variator</td>\n",
       "      <td>04-May</td>\n",
       "      <td>Right-hand drive</td>\n",
       "    </tr>\n",
       "    <tr>\n",
       "      <th>3</th>\n",
       "      <td>45769185</td>\n",
       "      <td>3607</td>\n",
       "      <td>862</td>\n",
       "      <td>FORD</td>\n",
       "      <td>Escape</td>\n",
       "      <td>2011</td>\n",
       "      <td>Jeep</td>\n",
       "      <td>Yes</td>\n",
       "      <td>Hybrid</td>\n",
       "      <td>2.5</td>\n",
       "      <td>168966 km</td>\n",
       "      <td>Automatic</td>\n",
       "      <td>04-May</td>\n",
       "      <td>Left wheel</td>\n",
       "    </tr>\n",
       "    <tr>\n",
       "      <th>4</th>\n",
       "      <td>45809263</td>\n",
       "      <td>11726</td>\n",
       "      <td>446</td>\n",
       "      <td>HONDA</td>\n",
       "      <td>FIT</td>\n",
       "      <td>2014</td>\n",
       "      <td>Hatchback</td>\n",
       "      <td>Yes</td>\n",
       "      <td>Petrol</td>\n",
       "      <td>1.3</td>\n",
       "      <td>91901 km</td>\n",
       "      <td>Automatic</td>\n",
       "      <td>04-May</td>\n",
       "      <td>Left wheel</td>\n",
       "    </tr>\n",
       "  </tbody>\n",
       "</table>\n",
       "</div>"
      ],
      "text/plain": [
       "         ID  Price  Levy Manufacturer    Model  Prod. year   Category  \\\n",
       "0  45654403  13328  1399        LEXUS   RX 450        2010       Jeep   \n",
       "1  44731507  16621  1018    CHEVROLET  Equinox        2011       Jeep   \n",
       "2  45774419   8467  <NA>        HONDA      FIT        2006  Hatchback   \n",
       "3  45769185   3607   862         FORD   Escape        2011       Jeep   \n",
       "4  45809263  11726   446        HONDA      FIT        2014  Hatchback   \n",
       "\n",
       "  Leather interior Fuel type Engine volume    Mileage Gear box type   Doors  \\\n",
       "0              Yes    Hybrid           3.5  186005 km     Automatic  04-May   \n",
       "1               No    Petrol             3  192000 km     Tiptronic  04-May   \n",
       "2               No    Petrol           1.3  200000 km      Variator  04-May   \n",
       "3              Yes    Hybrid           2.5  168966 km     Automatic  04-May   \n",
       "4              Yes    Petrol           1.3   91901 km     Automatic  04-May   \n",
       "\n",
       "              Wheel  \n",
       "0        Left wheel  \n",
       "1        Left wheel  \n",
       "2  Right-hand drive  \n",
       "3        Left wheel  \n",
       "4        Left wheel  "
      ]
     },
     "execution_count": 204,
     "metadata": {},
     "output_type": "execute_result"
    }
   ],
   "source": [
    "df = df.drop(['Cylinders', 'Drive wheels', 'Color', 'Airbags'], axis=1)\n",
    "df.head(5)"
   ]
  },
  {
   "cell_type": "markdown",
   "id": "609ae0be",
   "metadata": {},
   "source": [
    "##### 3.2) Проверка нечисловых признаков\n",
    "Так как типы данных могуть быть числовыми и нечисловыми, то следует рассмотреть их точнее и в последствии привести их к нужному типу."
   ]
  },
  {
   "cell_type": "code",
   "execution_count": 205,
   "id": "7a9898fa",
   "metadata": {},
   "outputs": [
    {
     "data": {
      "text/html": [
       "<div>\n",
       "<style scoped>\n",
       "    .dataframe tbody tr th:only-of-type {\n",
       "        vertical-align: middle;\n",
       "    }\n",
       "\n",
       "    .dataframe tbody tr th {\n",
       "        vertical-align: top;\n",
       "    }\n",
       "\n",
       "    .dataframe thead th {\n",
       "        text-align: right;\n",
       "    }\n",
       "</style>\n",
       "<table border=\"1\" class=\"dataframe\">\n",
       "  <thead>\n",
       "    <tr style=\"text-align: right;\">\n",
       "      <th></th>\n",
       "      <th>Levy</th>\n",
       "      <th>Manufacturer</th>\n",
       "      <th>Model</th>\n",
       "      <th>Category</th>\n",
       "      <th>Leather interior</th>\n",
       "      <th>Fuel type</th>\n",
       "      <th>Engine volume</th>\n",
       "      <th>Mileage</th>\n",
       "      <th>Gear box type</th>\n",
       "      <th>Doors</th>\n",
       "      <th>Wheel</th>\n",
       "    </tr>\n",
       "  </thead>\n",
       "  <tbody>\n",
       "    <tr>\n",
       "      <th>0</th>\n",
       "      <td>1399</td>\n",
       "      <td>LEXUS</td>\n",
       "      <td>RX 450</td>\n",
       "      <td>Jeep</td>\n",
       "      <td>Yes</td>\n",
       "      <td>Hybrid</td>\n",
       "      <td>3.5</td>\n",
       "      <td>186005 km</td>\n",
       "      <td>Automatic</td>\n",
       "      <td>04-May</td>\n",
       "      <td>Left wheel</td>\n",
       "    </tr>\n",
       "    <tr>\n",
       "      <th>1</th>\n",
       "      <td>1018</td>\n",
       "      <td>CHEVROLET</td>\n",
       "      <td>Equinox</td>\n",
       "      <td>Jeep</td>\n",
       "      <td>No</td>\n",
       "      <td>Petrol</td>\n",
       "      <td>3</td>\n",
       "      <td>192000 km</td>\n",
       "      <td>Tiptronic</td>\n",
       "      <td>04-May</td>\n",
       "      <td>Left wheel</td>\n",
       "    </tr>\n",
       "    <tr>\n",
       "      <th>2</th>\n",
       "      <td>&lt;NA&gt;</td>\n",
       "      <td>HONDA</td>\n",
       "      <td>FIT</td>\n",
       "      <td>Hatchback</td>\n",
       "      <td>No</td>\n",
       "      <td>Petrol</td>\n",
       "      <td>1.3</td>\n",
       "      <td>200000 km</td>\n",
       "      <td>Variator</td>\n",
       "      <td>04-May</td>\n",
       "      <td>Right-hand drive</td>\n",
       "    </tr>\n",
       "    <tr>\n",
       "      <th>3</th>\n",
       "      <td>862</td>\n",
       "      <td>FORD</td>\n",
       "      <td>Escape</td>\n",
       "      <td>Jeep</td>\n",
       "      <td>Yes</td>\n",
       "      <td>Hybrid</td>\n",
       "      <td>2.5</td>\n",
       "      <td>168966 km</td>\n",
       "      <td>Automatic</td>\n",
       "      <td>04-May</td>\n",
       "      <td>Left wheel</td>\n",
       "    </tr>\n",
       "    <tr>\n",
       "      <th>4</th>\n",
       "      <td>446</td>\n",
       "      <td>HONDA</td>\n",
       "      <td>FIT</td>\n",
       "      <td>Hatchback</td>\n",
       "      <td>Yes</td>\n",
       "      <td>Petrol</td>\n",
       "      <td>1.3</td>\n",
       "      <td>91901 km</td>\n",
       "      <td>Automatic</td>\n",
       "      <td>04-May</td>\n",
       "      <td>Left wheel</td>\n",
       "    </tr>\n",
       "  </tbody>\n",
       "</table>\n",
       "</div>"
      ],
      "text/plain": [
       "   Levy Manufacturer    Model   Category Leather interior Fuel type  \\\n",
       "0  1399        LEXUS   RX 450       Jeep              Yes    Hybrid   \n",
       "1  1018    CHEVROLET  Equinox       Jeep               No    Petrol   \n",
       "2  <NA>        HONDA      FIT  Hatchback               No    Petrol   \n",
       "3   862         FORD   Escape       Jeep              Yes    Hybrid   \n",
       "4   446        HONDA      FIT  Hatchback              Yes    Petrol   \n",
       "\n",
       "  Engine volume    Mileage Gear box type   Doors             Wheel  \n",
       "0           3.5  186005 km     Automatic  04-May        Left wheel  \n",
       "1             3  192000 km     Tiptronic  04-May        Left wheel  \n",
       "2           1.3  200000 km      Variator  04-May  Right-hand drive  \n",
       "3           2.5  168966 km     Automatic  04-May        Left wheel  \n",
       "4           1.3   91901 km     Automatic  04-May        Left wheel  "
      ]
     },
     "execution_count": 205,
     "metadata": {},
     "output_type": "execute_result"
    }
   ],
   "source": [
    "df.select_dtypes(exclude=\"number\").head()"
   ]
  },
  {
   "cell_type": "markdown",
   "id": "3eec0252",
   "metadata": {},
   "source": [
    "Как мы видим `Levy` и `Mileage` скорее числовые признаки, нежели нечисловые. При этом в `Levy` имеются пропуски, а в `Mileage` приписка km. Давайте это исправим.  \n",
    "\n",
    "Перед этим посмотрим на количество в `Levy` пустых значений."
   ]
  },
  {
   "cell_type": "code",
   "execution_count": 206,
   "id": "22bda3ad",
   "metadata": {},
   "outputs": [
    {
     "data": {
      "text/plain": [
       "ID                     0\n",
       "Price                  0\n",
       "Levy                5819\n",
       "Manufacturer           0\n",
       "Model                  0\n",
       "Prod. year             0\n",
       "Category               0\n",
       "Leather interior       0\n",
       "Fuel type              0\n",
       "Engine volume          0\n",
       "Mileage                0\n",
       "Gear box type          0\n",
       "Doors                  0\n",
       "Wheel                  0\n",
       "dtype: int64"
      ]
     },
     "execution_count": 206,
     "metadata": {},
     "output_type": "execute_result"
    }
   ],
   "source": [
    "df.isna().sum()"
   ]
  },
  {
   "cell_type": "markdown",
   "id": "a7f8271c",
   "metadata": {},
   "source": [
    "**Визуальное отображение пропусков:**"
   ]
  },
  {
   "cell_type": "code",
   "execution_count": 207,
   "id": "f56e98f2",
   "metadata": {},
   "outputs": [
    {
     "data": {
      "text/plain": [
       "Text(0, 0.5, 'Sample Number')"
      ]
     },
     "execution_count": 207,
     "metadata": {},
     "output_type": "execute_result"
    },
    {
     "data": {
      "image/png": "[encoded data removed]",
      "text/plain": [
       "<Figure size 1000x800 with 1 Axes>"
      ]
     },
     "metadata": {},
     "output_type": "display_data"
    }
   ],
   "source": [
    "plt.figure(figsize=(10, 8))\n",
    "plt.imshow(df.isna(), aspect=\"auto\", interpolation=\"nearest\", cmap=\"gray\")\n",
    "plt.xlabel(\"Column Number\")\n",
    "plt.ylabel(\"Sample Number\")"
   ]
  },
  {
   "cell_type": "markdown",
   "id": "eb1c14db",
   "metadata": {},
   "source": [
    "Как мы можем увидеть _количество пропусков в признаке `Levy` - очень большое_. И при этом признак, предполагается, одним из важнейших, так как содержит налог на автомобиль.  \n",
    "Следовательно, лучшим выходом будет выполнить **заполнение по медиане**."
   ]
  },
  {
   "cell_type": "code",
   "execution_count": 208,
   "id": "254f50a0",
   "metadata": {},
   "outputs": [
    {
     "data": {
      "text/plain": [
       "ID                  0\n",
       "Price               0\n",
       "Levy                0\n",
       "Manufacturer        0\n",
       "Model               0\n",
       "Prod. year          0\n",
       "Category            0\n",
       "Leather interior    0\n",
       "Fuel type           0\n",
       "Engine volume       0\n",
       "Mileage             0\n",
       "Gear box type       0\n",
       "Doors               0\n",
       "Wheel               0\n",
       "dtype: int64"
      ]
     },
     "execution_count": 208,
     "metadata": {},
     "output_type": "execute_result"
    }
   ],
   "source": [
    "df[\"Levy\"] = df[\"Levy\"].astype(\"Int16\") # данный тип данных позволяет преобразовать признак с пропусками\n",
    "df[\"Levy\"] = df[\"Levy\"].fillna(df[\"Levy\"].median())\n",
    "df.isna().sum()"
   ]
  },
  {
   "cell_type": "markdown",
   "id": "838ef286",
   "metadata": {},
   "source": [
    "Теперь примемся за признак `Mileage`. Нам необходимо привести его в числовой тип, при этом убрав приписку km."
   ]
  },
  {
   "cell_type": "code",
   "execution_count": 209,
   "id": "a2ec9be5",
   "metadata": {},
   "outputs": [
    {
     "data": {
      "text/plain": [
       "0    186005\n",
       "1    192000\n",
       "2    200000\n",
       "3    168966\n",
       "4     91901\n",
       "5    160931\n",
       "6    258909\n",
       "7    216118\n",
       "8    398069\n",
       "9    128500\n",
       "Name: Mileage, dtype: object"
      ]
     },
     "execution_count": 209,
     "metadata": {},
     "output_type": "execute_result"
    }
   ],
   "source": [
    "df[\"Mileage\"] = df[\"Mileage\"].str.replace(\" km\", \"\", regex=False)\n",
    "df[\"Mileage\"].head(10)"
   ]
  },
  {
   "cell_type": "code",
   "execution_count": 210,
   "id": "9c17af8e",
   "metadata": {},
   "outputs": [
    {
     "data": {
      "text/plain": [
       "0    186005\n",
       "1    192000\n",
       "2    200000\n",
       "3    168966\n",
       "4     91901\n",
       "5    160931\n",
       "6    258909\n",
       "7    216118\n",
       "8    398069\n",
       "9    128500\n",
       "Name: Mileage, dtype: int32"
      ]
     },
     "execution_count": 210,
     "metadata": {},
     "output_type": "execute_result"
    }
   ],
   "source": [
    "df[\"Mileage\"] = df[\"Mileage\"].astype(\"int32\")\n",
    "df[\"Mileage\"].head(10)"
   ]
  },
  {
   "cell_type": "markdown",
   "id": "ec5140dc",
   "metadata": {},
   "source": [
    "Еще раз посмотрим на нечисловые признаки, чтобы проверить упустили ли мы что-то."
   ]
  },
  {
   "cell_type": "code",
   "execution_count": 211,
   "id": "276c180b",
   "metadata": {},
   "outputs": [
    {
     "data": {
      "text/html": [
       "<div>\n",
       "<style scoped>\n",
       "    .dataframe tbody tr th:only-of-type {\n",
       "        vertical-align: middle;\n",
       "    }\n",
       "\n",
       "    .dataframe tbody tr th {\n",
       "        vertical-align: top;\n",
       "    }\n",
       "\n",
       "    .dataframe thead th {\n",
       "        text-align: right;\n",
       "    }\n",
       "</style>\n",
       "<table border=\"1\" class=\"dataframe\">\n",
       "  <thead>\n",
       "    <tr style=\"text-align: right;\">\n",
       "      <th></th>\n",
       "      <th>Manufacturer</th>\n",
       "      <th>Model</th>\n",
       "      <th>Category</th>\n",
       "      <th>Leather interior</th>\n",
       "      <th>Fuel type</th>\n",
       "      <th>Engine volume</th>\n",
       "      <th>Gear box type</th>\n",
       "      <th>Doors</th>\n",
       "      <th>Wheel</th>\n",
       "    </tr>\n",
       "  </thead>\n",
       "  <tbody>\n",
       "    <tr>\n",
       "      <th>0</th>\n",
       "      <td>LEXUS</td>\n",
       "      <td>RX 450</td>\n",
       "      <td>Jeep</td>\n",
       "      <td>Yes</td>\n",
       "      <td>Hybrid</td>\n",
       "      <td>3.5</td>\n",
       "      <td>Automatic</td>\n",
       "      <td>04-May</td>\n",
       "      <td>Left wheel</td>\n",
       "    </tr>\n",
       "    <tr>\n",
       "      <th>1</th>\n",
       "      <td>CHEVROLET</td>\n",
       "      <td>Equinox</td>\n",
       "      <td>Jeep</td>\n",
       "      <td>No</td>\n",
       "      <td>Petrol</td>\n",
       "      <td>3</td>\n",
       "      <td>Tiptronic</td>\n",
       "      <td>04-May</td>\n",
       "      <td>Left wheel</td>\n",
       "    </tr>\n",
       "    <tr>\n",
       "      <th>2</th>\n",
       "      <td>HONDA</td>\n",
       "      <td>FIT</td>\n",
       "      <td>Hatchback</td>\n",
       "      <td>No</td>\n",
       "      <td>Petrol</td>\n",
       "      <td>1.3</td>\n",
       "      <td>Variator</td>\n",
       "      <td>04-May</td>\n",
       "      <td>Right-hand drive</td>\n",
       "    </tr>\n",
       "    <tr>\n",
       "      <th>3</th>\n",
       "      <td>FORD</td>\n",
       "      <td>Escape</td>\n",
       "      <td>Jeep</td>\n",
       "      <td>Yes</td>\n",
       "      <td>Hybrid</td>\n",
       "      <td>2.5</td>\n",
       "      <td>Automatic</td>\n",
       "      <td>04-May</td>\n",
       "      <td>Left wheel</td>\n",
       "    </tr>\n",
       "    <tr>\n",
       "      <th>4</th>\n",
       "      <td>HONDA</td>\n",
       "      <td>FIT</td>\n",
       "      <td>Hatchback</td>\n",
       "      <td>Yes</td>\n",
       "      <td>Petrol</td>\n",
       "      <td>1.3</td>\n",
       "      <td>Automatic</td>\n",
       "      <td>04-May</td>\n",
       "      <td>Left wheel</td>\n",
       "    </tr>\n",
       "  </tbody>\n",
       "</table>\n",
       "</div>"
      ],
      "text/plain": [
       "  Manufacturer    Model   Category Leather interior Fuel type Engine volume  \\\n",
       "0        LEXUS   RX 450       Jeep              Yes    Hybrid           3.5   \n",
       "1    CHEVROLET  Equinox       Jeep               No    Petrol             3   \n",
       "2        HONDA      FIT  Hatchback               No    Petrol           1.3   \n",
       "3         FORD   Escape       Jeep              Yes    Hybrid           2.5   \n",
       "4        HONDA      FIT  Hatchback              Yes    Petrol           1.3   \n",
       "\n",
       "  Gear box type   Doors             Wheel  \n",
       "0     Automatic  04-May        Left wheel  \n",
       "1     Tiptronic  04-May        Left wheel  \n",
       "2      Variator  04-May  Right-hand drive  \n",
       "3     Automatic  04-May        Left wheel  \n",
       "4     Automatic  04-May        Left wheel  "
      ]
     },
     "execution_count": 211,
     "metadata": {},
     "output_type": "execute_result"
    }
   ],
   "source": [
    "df.select_dtypes(exclude=\"number\").head()"
   ]
  },
  {
   "cell_type": "markdown",
   "id": "67a58650",
   "metadata": {},
   "source": [
    "Признак `Engine volume` оставляем нечисловым, так как помимо объема двигателя в признаке указывается - *с турбонаддувом двигатель или нет*"
   ]
  },
  {
   "cell_type": "markdown",
   "id": "de614b35",
   "metadata": {},
   "source": [
    "##### 3.3) Проверка числовых признаков\n",
    "Настала очередь посмотреть числовые признаки датасета. Кроме того дополнительно проверим нахождения тут измененных признаков из пункта выше."
   ]
  },
  {
   "cell_type": "code",
   "execution_count": 212,
   "id": "443665df",
   "metadata": {},
   "outputs": [
    {
     "data": {
      "text/html": [
       "<div>\n",
       "<style scoped>\n",
       "    .dataframe tbody tr th:only-of-type {\n",
       "        vertical-align: middle;\n",
       "    }\n",
       "\n",
       "    .dataframe tbody tr th {\n",
       "        vertical-align: top;\n",
       "    }\n",
       "\n",
       "    .dataframe thead th {\n",
       "        text-align: right;\n",
       "    }\n",
       "</style>\n",
       "<table border=\"1\" class=\"dataframe\">\n",
       "  <thead>\n",
       "    <tr style=\"text-align: right;\">\n",
       "      <th></th>\n",
       "      <th>ID</th>\n",
       "      <th>Price</th>\n",
       "      <th>Levy</th>\n",
       "      <th>Prod. year</th>\n",
       "      <th>Mileage</th>\n",
       "    </tr>\n",
       "  </thead>\n",
       "  <tbody>\n",
       "    <tr>\n",
       "      <th>0</th>\n",
       "      <td>45654403</td>\n",
       "      <td>13328</td>\n",
       "      <td>1399</td>\n",
       "      <td>2010</td>\n",
       "      <td>186005</td>\n",
       "    </tr>\n",
       "    <tr>\n",
       "      <th>1</th>\n",
       "      <td>44731507</td>\n",
       "      <td>16621</td>\n",
       "      <td>1018</td>\n",
       "      <td>2011</td>\n",
       "      <td>192000</td>\n",
       "    </tr>\n",
       "    <tr>\n",
       "      <th>2</th>\n",
       "      <td>45774419</td>\n",
       "      <td>8467</td>\n",
       "      <td>781</td>\n",
       "      <td>2006</td>\n",
       "      <td>200000</td>\n",
       "    </tr>\n",
       "    <tr>\n",
       "      <th>3</th>\n",
       "      <td>45769185</td>\n",
       "      <td>3607</td>\n",
       "      <td>862</td>\n",
       "      <td>2011</td>\n",
       "      <td>168966</td>\n",
       "    </tr>\n",
       "    <tr>\n",
       "      <th>4</th>\n",
       "      <td>45809263</td>\n",
       "      <td>11726</td>\n",
       "      <td>446</td>\n",
       "      <td>2014</td>\n",
       "      <td>91901</td>\n",
       "    </tr>\n",
       "  </tbody>\n",
       "</table>\n",
       "</div>"
      ],
      "text/plain": [
       "         ID  Price  Levy  Prod. year  Mileage\n",
       "0  45654403  13328  1399        2010   186005\n",
       "1  44731507  16621  1018        2011   192000\n",
       "2  45774419   8467   781        2006   200000\n",
       "3  45769185   3607   862        2011   168966\n",
       "4  45809263  11726   446        2014    91901"
      ]
     },
     "execution_count": 212,
     "metadata": {},
     "output_type": "execute_result"
    }
   ],
   "source": [
    "df.select_dtypes(include=\"number\").head()"
   ]
  },
  {
   "cell_type": "markdown",
   "id": "cfa62562",
   "metadata": {},
   "source": [
    "Все хорошо, теперь можно рассмотреть количество уникальных значений в каждом из признаков. Это поможет точнее выбрать тип для приведения."
   ]
  },
  {
   "cell_type": "code",
   "execution_count": 213,
   "id": "e3f23d7e",
   "metadata": {},
   "outputs": [
    {
     "data": {
      "text/plain": [
       "<Axes: title={'center': 'Unique values per feature'}>"
      ]
     },
     "execution_count": 213,
     "metadata": {},
     "output_type": "execute_result"
    },
    {
     "data": {
      "image/png": "[encoded data removed]",
      "text/plain": [
       "<Figure size 1500x400 with 1 Axes>"
      ]
     },
     "metadata": {},
     "output_type": "display_data"
    }
   ],
   "source": [
    "uniq_val = df.select_dtypes(include=\"number\").nunique().sort_values()\n",
    "uniq_val.plot.bar(logy=True, figsize=(15, 4), title=\"Unique values per feature\")"
   ]
  },
  {
   "cell_type": "markdown",
   "id": "9744778b",
   "metadata": {},
   "source": [
    "##### 3.4) Проверка дубликатов\n",
    "\n",
    "Так как мы хотим добиться уникальности записей, то необходимо провести над нашими данными **проверку дубликатов** по их ID."
   ]
  },
  {
   "cell_type": "code",
   "execution_count": 214,
   "id": "871b8d5d",
   "metadata": {},
   "outputs": [
    {
     "data": {
      "text/plain": [
       "(19237, 14)"
      ]
     },
     "execution_count": 214,
     "metadata": {},
     "output_type": "execute_result"
    }
   ],
   "source": [
    "df.shape"
   ]
  },
  {
   "cell_type": "code",
   "execution_count": 215,
   "id": "a7a58e0e",
   "metadata": {},
   "outputs": [
    {
     "data": {
      "text/plain": [
       "(313, 14)"
      ]
     },
     "execution_count": 215,
     "metadata": {},
     "output_type": "execute_result"
    }
   ],
   "source": [
    "duplic_rows_df = df[df.duplicated()]\n",
    "duplic_rows_df.shape"
   ]
  },
  {
   "cell_type": "markdown",
   "id": "f20bb174",
   "metadata": {},
   "source": [
    "О, их оказалось не так много, учитывая весь объем датасета. Поэтому мы можем их смело удалить."
   ]
  },
  {
   "cell_type": "code",
   "execution_count": 216,
   "id": "0d0e50a1",
   "metadata": {},
   "outputs": [
    {
     "data": {
      "text/plain": [
       "(18924, 14)"
      ]
     },
     "execution_count": 216,
     "metadata": {},
     "output_type": "execute_result"
    }
   ],
   "source": [
    "df = df.drop_duplicates()\n",
    "df.shape"
   ]
  },
  {
   "cell_type": "markdown",
   "id": "aabcf06f",
   "metadata": {},
   "source": [
    "##### 3.5) Переименование признаков\n",
    "\n",
    "Анализируя данные пришел к выводу, что необходимо бы переименовать некоторые признаки, так как они мало отражают содержащиеся в них сведения.  \n",
    "Все переименования будут указны также в файле [NAMING.txt](../docs/NAMING.txt) в директории **docs**.  \n",
    "Перед этим выведем названия."
   ]
  },
  {
   "cell_type": "code",
   "execution_count": 217,
   "id": "43ebdf68",
   "metadata": {},
   "outputs": [
    {
     "data": {
      "text/html": [
       "<div>\n",
       "<style scoped>\n",
       "    .dataframe tbody tr th:only-of-type {\n",
       "        vertical-align: middle;\n",
       "    }\n",
       "\n",
       "    .dataframe tbody tr th {\n",
       "        vertical-align: top;\n",
       "    }\n",
       "\n",
       "    .dataframe thead th {\n",
       "        text-align: right;\n",
       "    }\n",
       "</style>\n",
       "<table border=\"1\" class=\"dataframe\">\n",
       "  <thead>\n",
       "    <tr style=\"text-align: right;\">\n",
       "      <th></th>\n",
       "      <th>ID</th>\n",
       "      <th>Price</th>\n",
       "      <th>Levy</th>\n",
       "      <th>Manufacturer</th>\n",
       "      <th>Model</th>\n",
       "      <th>Prod. year</th>\n",
       "      <th>Category</th>\n",
       "      <th>Leather interior</th>\n",
       "      <th>Fuel type</th>\n",
       "      <th>Engine volume</th>\n",
       "      <th>Mileage</th>\n",
       "      <th>Gear box type</th>\n",
       "      <th>Doors</th>\n",
       "      <th>Wheel</th>\n",
       "    </tr>\n",
       "  </thead>\n",
       "  <tbody>\n",
       "    <tr>\n",
       "      <th>0</th>\n",
       "      <td>45654403</td>\n",
       "      <td>13328</td>\n",
       "      <td>1399</td>\n",
       "      <td>LEXUS</td>\n",
       "      <td>RX 450</td>\n",
       "      <td>2010</td>\n",
       "      <td>Jeep</td>\n",
       "      <td>Yes</td>\n",
       "      <td>Hybrid</td>\n",
       "      <td>3.5</td>\n",
       "      <td>186005</td>\n",
       "      <td>Automatic</td>\n",
       "      <td>04-May</td>\n",
       "      <td>Left wheel</td>\n",
       "    </tr>\n",
       "    <tr>\n",
       "      <th>1</th>\n",
       "      <td>44731507</td>\n",
       "      <td>16621</td>\n",
       "      <td>1018</td>\n",
       "      <td>CHEVROLET</td>\n",
       "      <td>Equinox</td>\n",
       "      <td>2011</td>\n",
       "      <td>Jeep</td>\n",
       "      <td>No</td>\n",
       "      <td>Petrol</td>\n",
       "      <td>3</td>\n",
       "      <td>192000</td>\n",
       "      <td>Tiptronic</td>\n",
       "      <td>04-May</td>\n",
       "      <td>Left wheel</td>\n",
       "    </tr>\n",
       "    <tr>\n",
       "      <th>2</th>\n",
       "      <td>45774419</td>\n",
       "      <td>8467</td>\n",
       "      <td>781</td>\n",
       "      <td>HONDA</td>\n",
       "      <td>FIT</td>\n",
       "      <td>2006</td>\n",
       "      <td>Hatchback</td>\n",
       "      <td>No</td>\n",
       "      <td>Petrol</td>\n",
       "      <td>1.3</td>\n",
       "      <td>200000</td>\n",
       "      <td>Variator</td>\n",
       "      <td>04-May</td>\n",
       "      <td>Right-hand drive</td>\n",
       "    </tr>\n",
       "    <tr>\n",
       "      <th>3</th>\n",
       "      <td>45769185</td>\n",
       "      <td>3607</td>\n",
       "      <td>862</td>\n",
       "      <td>FORD</td>\n",
       "      <td>Escape</td>\n",
       "      <td>2011</td>\n",
       "      <td>Jeep</td>\n",
       "      <td>Yes</td>\n",
       "      <td>Hybrid</td>\n",
       "      <td>2.5</td>\n",
       "      <td>168966</td>\n",
       "      <td>Automatic</td>\n",
       "      <td>04-May</td>\n",
       "      <td>Left wheel</td>\n",
       "    </tr>\n",
       "    <tr>\n",
       "      <th>4</th>\n",
       "      <td>45809263</td>\n",
       "      <td>11726</td>\n",
       "      <td>446</td>\n",
       "      <td>HONDA</td>\n",
       "      <td>FIT</td>\n",
       "      <td>2014</td>\n",
       "      <td>Hatchback</td>\n",
       "      <td>Yes</td>\n",
       "      <td>Petrol</td>\n",
       "      <td>1.3</td>\n",
       "      <td>91901</td>\n",
       "      <td>Automatic</td>\n",
       "      <td>04-May</td>\n",
       "      <td>Left wheel</td>\n",
       "    </tr>\n",
       "  </tbody>\n",
       "</table>\n",
       "</div>"
      ],
      "text/plain": [
       "         ID  Price  Levy Manufacturer    Model  Prod. year   Category  \\\n",
       "0  45654403  13328  1399        LEXUS   RX 450        2010       Jeep   \n",
       "1  44731507  16621  1018    CHEVROLET  Equinox        2011       Jeep   \n",
       "2  45774419   8467   781        HONDA      FIT        2006  Hatchback   \n",
       "3  45769185   3607   862         FORD   Escape        2011       Jeep   \n",
       "4  45809263  11726   446        HONDA      FIT        2014  Hatchback   \n",
       "\n",
       "  Leather interior Fuel type Engine volume  Mileage Gear box type   Doors  \\\n",
       "0              Yes    Hybrid           3.5   186005     Automatic  04-May   \n",
       "1               No    Petrol             3   192000     Tiptronic  04-May   \n",
       "2               No    Petrol           1.3   200000      Variator  04-May   \n",
       "3              Yes    Hybrid           2.5   168966     Automatic  04-May   \n",
       "4              Yes    Petrol           1.3    91901     Automatic  04-May   \n",
       "\n",
       "              Wheel  \n",
       "0        Left wheel  \n",
       "1        Left wheel  \n",
       "2  Right-hand drive  \n",
       "3        Left wheel  \n",
       "4        Left wheel  "
      ]
     },
     "execution_count": 217,
     "metadata": {},
     "output_type": "execute_result"
    }
   ],
   "source": [
    "df.head()"
   ]
  },
  {
   "cell_type": "code",
   "execution_count": 218,
   "id": "d57820f3",
   "metadata": {},
   "outputs": [
    {
     "data": {
      "text/html": [
       "<div>\n",
       "<style scoped>\n",
       "    .dataframe tbody tr th:only-of-type {\n",
       "        vertical-align: middle;\n",
       "    }\n",
       "\n",
       "    .dataframe tbody tr th {\n",
       "        vertical-align: top;\n",
       "    }\n",
       "\n",
       "    .dataframe thead th {\n",
       "        text-align: right;\n",
       "    }\n",
       "</style>\n",
       "<table border=\"1\" class=\"dataframe\">\n",
       "  <thead>\n",
       "    <tr style=\"text-align: right;\">\n",
       "      <th></th>\n",
       "      <th>ID</th>\n",
       "      <th>Price</th>\n",
       "      <th>Tax</th>\n",
       "      <th>Manufacturer</th>\n",
       "      <th>Model</th>\n",
       "      <th>Release_year</th>\n",
       "      <th>Car_type</th>\n",
       "      <th>Leather interior</th>\n",
       "      <th>Fuel type</th>\n",
       "      <th>Engine volume</th>\n",
       "      <th>Mileage</th>\n",
       "      <th>Transmission_type</th>\n",
       "      <th>Doors</th>\n",
       "      <th>Wheel</th>\n",
       "    </tr>\n",
       "  </thead>\n",
       "  <tbody>\n",
       "    <tr>\n",
       "      <th>0</th>\n",
       "      <td>45654403</td>\n",
       "      <td>13328</td>\n",
       "      <td>1399</td>\n",
       "      <td>LEXUS</td>\n",
       "      <td>RX 450</td>\n",
       "      <td>2010</td>\n",
       "      <td>Jeep</td>\n",
       "      <td>Yes</td>\n",
       "      <td>Hybrid</td>\n",
       "      <td>3.5</td>\n",
       "      <td>186005</td>\n",
       "      <td>Automatic</td>\n",
       "      <td>04-May</td>\n",
       "      <td>Left wheel</td>\n",
       "    </tr>\n",
       "    <tr>\n",
       "      <th>1</th>\n",
       "      <td>44731507</td>\n",
       "      <td>16621</td>\n",
       "      <td>1018</td>\n",
       "      <td>CHEVROLET</td>\n",
       "      <td>Equinox</td>\n",
       "      <td>2011</td>\n",
       "      <td>Jeep</td>\n",
       "      <td>No</td>\n",
       "      <td>Petrol</td>\n",
       "      <td>3</td>\n",
       "      <td>192000</td>\n",
       "      <td>Tiptronic</td>\n",
       "      <td>04-May</td>\n",
       "      <td>Left wheel</td>\n",
       "    </tr>\n",
       "    <tr>\n",
       "      <th>2</th>\n",
       "      <td>45774419</td>\n",
       "      <td>8467</td>\n",
       "      <td>781</td>\n",
       "      <td>HONDA</td>\n",
       "      <td>FIT</td>\n",
       "      <td>2006</td>\n",
       "      <td>Hatchback</td>\n",
       "      <td>No</td>\n",
       "      <td>Petrol</td>\n",
       "      <td>1.3</td>\n",
       "      <td>200000</td>\n",
       "      <td>Variator</td>\n",
       "      <td>04-May</td>\n",
       "      <td>Right-hand drive</td>\n",
       "    </tr>\n",
       "    <tr>\n",
       "      <th>3</th>\n",
       "      <td>45769185</td>\n",
       "      <td>3607</td>\n",
       "      <td>862</td>\n",
       "      <td>FORD</td>\n",
       "      <td>Escape</td>\n",
       "      <td>2011</td>\n",
       "      <td>Jeep</td>\n",
       "      <td>Yes</td>\n",
       "      <td>Hybrid</td>\n",
       "      <td>2.5</td>\n",
       "      <td>168966</td>\n",
       "      <td>Automatic</td>\n",
       "      <td>04-May</td>\n",
       "      <td>Left wheel</td>\n",
       "    </tr>\n",
       "    <tr>\n",
       "      <th>4</th>\n",
       "      <td>45809263</td>\n",
       "      <td>11726</td>\n",
       "      <td>446</td>\n",
       "      <td>HONDA</td>\n",
       "      <td>FIT</td>\n",
       "      <td>2014</td>\n",
       "      <td>Hatchback</td>\n",
       "      <td>Yes</td>\n",
       "      <td>Petrol</td>\n",
       "      <td>1.3</td>\n",
       "      <td>91901</td>\n",
       "      <td>Automatic</td>\n",
       "      <td>04-May</td>\n",
       "      <td>Left wheel</td>\n",
       "    </tr>\n",
       "  </tbody>\n",
       "</table>\n",
       "</div>"
      ],
      "text/plain": [
       "         ID  Price   Tax Manufacturer    Model  Release_year   Car_type  \\\n",
       "0  45654403  13328  1399        LEXUS   RX 450          2010       Jeep   \n",
       "1  44731507  16621  1018    CHEVROLET  Equinox          2011       Jeep   \n",
       "2  45774419   8467   781        HONDA      FIT          2006  Hatchback   \n",
       "3  45769185   3607   862         FORD   Escape          2011       Jeep   \n",
       "4  45809263  11726   446        HONDA      FIT          2014  Hatchback   \n",
       "\n",
       "  Leather interior Fuel type Engine volume  Mileage Transmission_type   Doors  \\\n",
       "0              Yes    Hybrid           3.5   186005         Automatic  04-May   \n",
       "1               No    Petrol             3   192000         Tiptronic  04-May   \n",
       "2               No    Petrol           1.3   200000          Variator  04-May   \n",
       "3              Yes    Hybrid           2.5   168966         Automatic  04-May   \n",
       "4              Yes    Petrol           1.3    91901         Automatic  04-May   \n",
       "\n",
       "              Wheel  \n",
       "0        Left wheel  \n",
       "1        Left wheel  \n",
       "2  Right-hand drive  \n",
       "3        Left wheel  \n",
       "4        Left wheel  "
      ]
     },
     "execution_count": 218,
     "metadata": {},
     "output_type": "execute_result"
    }
   ],
   "source": [
    "df = df.rename(columns={\"Levy\":\"Tax\", \"Prod. year\":\"Release_year\", \"Category\":\"Car_type\", \"Gear box type\":\"Transmission_type\"})\n",
    "df.head()"
   ]
  },
  {
   "cell_type": "markdown",
   "id": "c6a1e61f",
   "metadata": {},
   "source": [
    "##### 3.6) Обнаружение и обработка выбросов в числовых признаках\n",
    "\n",
    "Важно предупредить момент выбросов и ошибочных огромных значений в числовых параметрах. Особенно перед приведением типов.  \n",
    "Кроме того такие выбросы будут негативно влиять на наш конечный вывод, что приведет к некорректному решению поставленной цели.  \n",
    "Вызовем для отображения снова числовые параметры."
   ]
  },
  {
   "cell_type": "code",
   "execution_count": 219,
   "id": "bdf6bb4a",
   "metadata": {},
   "outputs": [
    {
     "data": {
      "text/html": [
       "<div>\n",
       "<style scoped>\n",
       "    .dataframe tbody tr th:only-of-type {\n",
       "        vertical-align: middle;\n",
       "    }\n",
       "\n",
       "    .dataframe tbody tr th {\n",
       "        vertical-align: top;\n",
       "    }\n",
       "\n",
       "    .dataframe thead th {\n",
       "        text-align: right;\n",
       "    }\n",
       "</style>\n",
       "<table border=\"1\" class=\"dataframe\">\n",
       "  <thead>\n",
       "    <tr style=\"text-align: right;\">\n",
       "      <th></th>\n",
       "      <th>ID</th>\n",
       "      <th>Price</th>\n",
       "      <th>Tax</th>\n",
       "      <th>Release_year</th>\n",
       "      <th>Mileage</th>\n",
       "    </tr>\n",
       "  </thead>\n",
       "  <tbody>\n",
       "    <tr>\n",
       "      <th>0</th>\n",
       "      <td>45654403</td>\n",
       "      <td>13328</td>\n",
       "      <td>1399</td>\n",
       "      <td>2010</td>\n",
       "      <td>186005</td>\n",
       "    </tr>\n",
       "    <tr>\n",
       "      <th>1</th>\n",
       "      <td>44731507</td>\n",
       "      <td>16621</td>\n",
       "      <td>1018</td>\n",
       "      <td>2011</td>\n",
       "      <td>192000</td>\n",
       "    </tr>\n",
       "    <tr>\n",
       "      <th>2</th>\n",
       "      <td>45774419</td>\n",
       "      <td>8467</td>\n",
       "      <td>781</td>\n",
       "      <td>2006</td>\n",
       "      <td>200000</td>\n",
       "    </tr>\n",
       "    <tr>\n",
       "      <th>3</th>\n",
       "      <td>45769185</td>\n",
       "      <td>3607</td>\n",
       "      <td>862</td>\n",
       "      <td>2011</td>\n",
       "      <td>168966</td>\n",
       "    </tr>\n",
       "    <tr>\n",
       "      <th>4</th>\n",
       "      <td>45809263</td>\n",
       "      <td>11726</td>\n",
       "      <td>446</td>\n",
       "      <td>2014</td>\n",
       "      <td>91901</td>\n",
       "    </tr>\n",
       "  </tbody>\n",
       "</table>\n",
       "</div>"
      ],
      "text/plain": [
       "         ID  Price   Tax  Release_year  Mileage\n",
       "0  45654403  13328  1399          2010   186005\n",
       "1  44731507  16621  1018          2011   192000\n",
       "2  45774419   8467   781          2006   200000\n",
       "3  45769185   3607   862          2011   168966\n",
       "4  45809263  11726   446          2014    91901"
      ]
     },
     "execution_count": 219,
     "metadata": {},
     "output_type": "execute_result"
    }
   ],
   "source": [
    "df.select_dtypes(include=\"number\").head()"
   ]
  },
  {
   "cell_type": "code",
   "execution_count": 220,
   "id": "73796947",
   "metadata": {},
   "outputs": [
    {
     "data": {
      "text/plain": [
       "<Axes: xlabel='Price'>"
      ]
     },
     "execution_count": 220,
     "metadata": {},
     "output_type": "execute_result"
    },
    {
     "data": {
      "image/png": "[encoded data removed]",
      "text/plain": [
       "<Figure size 640x480 with 1 Axes>"
      ]
     },
     "metadata": {},
     "output_type": "display_data"
    }
   ],
   "source": [
    "sns.boxplot(x=df['Price'])"
   ]
  },
  {
   "cell_type": "code",
   "execution_count": 221,
   "id": "0883a6ff",
   "metadata": {},
   "outputs": [
    {
     "data": {
      "text/plain": [
       "<Axes: xlabel='Tax'>"
      ]
     },
     "execution_count": 221,
     "metadata": {},
     "output_type": "execute_result"
    },
    {
     "data": {
      "image/png": "[encoded data removed]",
      "text/plain": [
       "<Figure size 640x480 with 1 Axes>"
      ]
     },
     "metadata": {},
     "output_type": "display_data"
    }
   ],
   "source": [
    "sns.boxplot(x=df['Tax'])"
   ]
  },
  {
   "cell_type": "code",
   "execution_count": 222,
   "id": "b446c293",
   "metadata": {},
   "outputs": [
    {
     "data": {
      "text/plain": [
       "<Axes: xlabel='Release_year'>"
      ]
     },
     "execution_count": 222,
     "metadata": {},
     "output_type": "execute_result"
    },
    {
     "data": {
      "image/png": "[encoded data removed]",
      "text/plain": [
       "<Figure size 640x480 with 1 Axes>"
      ]
     },
     "metadata": {},
     "output_type": "display_data"
    }
   ],
   "source": [
    "sns.boxplot(x=df[\"Release_year\"])"
   ]
  },
  {
   "cell_type": "code",
   "execution_count": 223,
   "id": "f198febb",
   "metadata": {},
   "outputs": [
    {
     "data": {
      "text/plain": [
       "<Axes: xlabel='Mileage'>"
      ]
     },
     "execution_count": 223,
     "metadata": {},
     "output_type": "execute_result"
    },
    {
     "data": {
      "image/png": "[encoded data removed]",
      "text/plain": [
       "<Figure size 640x480 with 1 Axes>"
      ]
     },
     "metadata": {},
     "output_type": "display_data"
    }
   ],
   "source": [
    "sns.boxplot(x=df[\"Mileage\"])"
   ]
  },
  {
   "cell_type": "markdown",
   "id": "d7f89abf",
   "metadata": {},
   "source": [
    "Как видно по графикам - проблемы **есть**. А конкретно в признаках `Price`, `Tax`, `Mileage`.  \n",
    "Это необходимо решать. Начнем с признака `Price`."
   ]
  },
  {
   "cell_type": "code",
   "execution_count": 224,
   "id": "0879e93c",
   "metadata": {},
   "outputs": [
    {
     "data": {
      "text/plain": [
       "16983    26307500\n",
       "8541       872946\n",
       "1225       627220\n",
       "5008       308906\n",
       "9367       297930\n",
       "Name: Price, dtype: int64"
      ]
     },
     "execution_count": 224,
     "metadata": {},
     "output_type": "execute_result"
    }
   ],
   "source": [
    "df[\"Price\"].nlargest(5)"
   ]
  },
  {
   "cell_type": "markdown",
   "id": "b6b02f71",
   "metadata": {},
   "source": [
    "Давайте посмотрим какие автомобили имеют такой ценник..."
   ]
  },
  {
   "cell_type": "code",
   "execution_count": 225,
   "id": "c4b86b05",
   "metadata": {},
   "outputs": [
    {
     "data": {
      "text/html": [
       "<div>\n",
       "<style scoped>\n",
       "    .dataframe tbody tr th:only-of-type {\n",
       "        vertical-align: middle;\n",
       "    }\n",
       "\n",
       "    .dataframe tbody tr th {\n",
       "        vertical-align: top;\n",
       "    }\n",
       "\n",
       "    .dataframe thead th {\n",
       "        text-align: right;\n",
       "    }\n",
       "</style>\n",
       "<table border=\"1\" class=\"dataframe\">\n",
       "  <thead>\n",
       "    <tr style=\"text-align: right;\">\n",
       "      <th></th>\n",
       "      <th>ID</th>\n",
       "      <th>Price</th>\n",
       "      <th>Tax</th>\n",
       "      <th>Manufacturer</th>\n",
       "      <th>Model</th>\n",
       "      <th>Release_year</th>\n",
       "      <th>Car_type</th>\n",
       "      <th>Leather interior</th>\n",
       "      <th>Fuel type</th>\n",
       "      <th>Engine volume</th>\n",
       "      <th>Mileage</th>\n",
       "      <th>Transmission_type</th>\n",
       "      <th>Doors</th>\n",
       "      <th>Wheel</th>\n",
       "    </tr>\n",
       "  </thead>\n",
       "  <tbody>\n",
       "    <tr>\n",
       "      <th>1225</th>\n",
       "      <td>45795524</td>\n",
       "      <td>627220</td>\n",
       "      <td>781</td>\n",
       "      <td>MERCEDES-BENZ</td>\n",
       "      <td>G 65 AMG 63AMG</td>\n",
       "      <td>2020</td>\n",
       "      <td>Jeep</td>\n",
       "      <td>Yes</td>\n",
       "      <td>Petrol</td>\n",
       "      <td>6.3 Turbo</td>\n",
       "      <td>0</td>\n",
       "      <td>Tiptronic</td>\n",
       "      <td>04-May</td>\n",
       "      <td>Left wheel</td>\n",
       "    </tr>\n",
       "    <tr>\n",
       "      <th>8541</th>\n",
       "      <td>45761204</td>\n",
       "      <td>872946</td>\n",
       "      <td>2067</td>\n",
       "      <td>LAMBORGHINI</td>\n",
       "      <td>Urus</td>\n",
       "      <td>2019</td>\n",
       "      <td>Universal</td>\n",
       "      <td>Yes</td>\n",
       "      <td>Petrol</td>\n",
       "      <td>4</td>\n",
       "      <td>2531</td>\n",
       "      <td>Tiptronic</td>\n",
       "      <td>04-May</td>\n",
       "      <td>Left wheel</td>\n",
       "    </tr>\n",
       "    <tr>\n",
       "      <th>16983</th>\n",
       "      <td>45812886</td>\n",
       "      <td>26307500</td>\n",
       "      <td>781</td>\n",
       "      <td>OPEL</td>\n",
       "      <td>Combo</td>\n",
       "      <td>1999</td>\n",
       "      <td>Goods wagon</td>\n",
       "      <td>No</td>\n",
       "      <td>Diesel</td>\n",
       "      <td>1.7</td>\n",
       "      <td>99999</td>\n",
       "      <td>Manual</td>\n",
       "      <td>02-Mar</td>\n",
       "      <td>Left wheel</td>\n",
       "    </tr>\n",
       "  </tbody>\n",
       "</table>\n",
       "</div>"
      ],
      "text/plain": [
       "             ID     Price   Tax   Manufacturer           Model  Release_year  \\\n",
       "1225   45795524    627220   781  MERCEDES-BENZ  G 65 AMG 63AMG          2020   \n",
       "8541   45761204    872946  2067    LAMBORGHINI            Urus          2019   \n",
       "16983  45812886  26307500   781           OPEL           Combo          1999   \n",
       "\n",
       "          Car_type Leather interior Fuel type Engine volume  Mileage  \\\n",
       "1225          Jeep              Yes    Petrol     6.3 Turbo        0   \n",
       "8541     Universal              Yes    Petrol             4     2531   \n",
       "16983  Goods wagon               No    Diesel           1.7    99999   \n",
       "\n",
       "      Transmission_type   Doors       Wheel  \n",
       "1225          Tiptronic  04-May  Left wheel  \n",
       "8541          Tiptronic  04-May  Left wheel  \n",
       "16983            Manual  02-Mar  Left wheel  "
      ]
     },
     "execution_count": 225,
     "metadata": {},
     "output_type": "execute_result"
    }
   ],
   "source": [
    "df[df[\"Price\"].isin([26307500, 872946, 627220])]"
   ]
  },
  {
   "cell_type": "markdown",
   "id": "275c99a9",
   "metadata": {},
   "source": [
    "Так, мы нашли проанализировали выбросы и первые два автомобиля - имеют адекватную цену. А вот третий - _Opel Combo_ не может стоить такую сумму. Это необходимо исправить."
   ]
  },
  {
   "cell_type": "code",
   "execution_count": 226,
   "id": "d370a79a",
   "metadata": {},
   "outputs": [
    {
     "data": {
      "text/plain": [
       "8541     872946\n",
       "1225     627220\n",
       "5008     308906\n",
       "9367     297930\n",
       "14839    297930\n",
       "Name: Price, dtype: int64"
      ]
     },
     "execution_count": 226,
     "metadata": {},
     "output_type": "execute_result"
    }
   ],
   "source": [
    "df['Price'] = df['Price'].mask(df['Price'] > 900000, df['Price'].median())\n",
    "df[\"Price\"].nlargest(5)"
   ]
  },
  {
   "cell_type": "markdown",
   "id": "6b006437",
   "metadata": {},
   "source": [
    "_Что мы сделали?_  \n",
    "Так как в признаке мы обнаружили и определили единичный выброс с суммой, которая невозможна для того типа автомобиля (<ins>цены указаны в долларах</ins>).  \n",
    "Поэтому было принято решение заменить этот выброс на **медианное значение**.  \n",
    "Ниже снова выведем график `Price`:"
   ]
  },
  {
   "cell_type": "code",
   "execution_count": 227,
   "id": "b25ff291",
   "metadata": {},
   "outputs": [
    {
     "data": {
      "text/plain": [
       "<Axes: xlabel='Price'>"
      ]
     },
     "execution_count": 227,
     "metadata": {},
     "output_type": "execute_result"
    },
    {
     "data": {
      "image/png": "[encoded data removed]",
      "text/plain": [
       "<Figure size 640x480 with 1 Axes>"
      ]
     },
     "metadata": {},
     "output_type": "display_data"
    }
   ],
   "source": [
    "sns.boxplot(x=df[\"Price\"])"
   ]
  },
  {
   "cell_type": "markdown",
   "id": "4ff114e0",
   "metadata": {},
   "source": [
    "Теперь проанализируем `Tax`"
   ]
  },
  {
   "cell_type": "code",
   "execution_count": 228,
   "id": "f5eaf4e0",
   "metadata": {},
   "outputs": [
    {
     "data": {
      "text/plain": [
       "115      11714\n",
       "18984    11714\n",
       "18957    11706\n",
       "17117     7536\n",
       "3994      7063\n",
       "2159      7058\n",
       "5529      5908\n",
       "5367      5877\n",
       "17767     5681\n",
       "2323      5679\n",
       "Name: Tax, dtype: Int16"
      ]
     },
     "execution_count": 228,
     "metadata": {},
     "output_type": "execute_result"
    }
   ],
   "source": [
    "df[\"Tax\"].nlargest(10)"
   ]
  },
  {
   "cell_type": "markdown",
   "id": "4d7369cc",
   "metadata": {},
   "source": [
    "Опять посмотрим на автомобили:"
   ]
  },
  {
   "cell_type": "code",
   "execution_count": 229,
   "id": "e51a3e91",
   "metadata": {},
   "outputs": [
    {
     "data": {
      "text/html": [
       "<div>\n",
       "<style scoped>\n",
       "    .dataframe tbody tr th:only-of-type {\n",
       "        vertical-align: middle;\n",
       "    }\n",
       "\n",
       "    .dataframe tbody tr th {\n",
       "        vertical-align: top;\n",
       "    }\n",
       "\n",
       "    .dataframe thead th {\n",
       "        text-align: right;\n",
       "    }\n",
       "</style>\n",
       "<table border=\"1\" class=\"dataframe\">\n",
       "  <thead>\n",
       "    <tr style=\"text-align: right;\">\n",
       "      <th></th>\n",
       "      <th>ID</th>\n",
       "      <th>Price</th>\n",
       "      <th>Tax</th>\n",
       "      <th>Manufacturer</th>\n",
       "      <th>Model</th>\n",
       "      <th>Release_year</th>\n",
       "      <th>Car_type</th>\n",
       "      <th>Leather interior</th>\n",
       "      <th>Fuel type</th>\n",
       "      <th>Engine volume</th>\n",
       "      <th>Mileage</th>\n",
       "      <th>Transmission_type</th>\n",
       "      <th>Doors</th>\n",
       "      <th>Wheel</th>\n",
       "    </tr>\n",
       "  </thead>\n",
       "  <tbody>\n",
       "    <tr>\n",
       "      <th>115</th>\n",
       "      <td>45534351</td>\n",
       "      <td>11917</td>\n",
       "      <td>11714</td>\n",
       "      <td>MERCEDES-BENZ</td>\n",
       "      <td>E 500 AMG</td>\n",
       "      <td>2003</td>\n",
       "      <td>Sedan</td>\n",
       "      <td>Yes</td>\n",
       "      <td>Petrol</td>\n",
       "      <td>5</td>\n",
       "      <td>150000</td>\n",
       "      <td>Tiptronic</td>\n",
       "      <td>04-May</td>\n",
       "      <td>Right-hand drive</td>\n",
       "    </tr>\n",
       "    <tr>\n",
       "      <th>2159</th>\n",
       "      <td>45804871</td>\n",
       "      <td>10349</td>\n",
       "      <td>7058</td>\n",
       "      <td>SUBARU</td>\n",
       "      <td>Legacy</td>\n",
       "      <td>2005</td>\n",
       "      <td>Sedan</td>\n",
       "      <td>Yes</td>\n",
       "      <td>Petrol</td>\n",
       "      <td>3</td>\n",
       "      <td>147000</td>\n",
       "      <td>Tiptronic</td>\n",
       "      <td>04-May</td>\n",
       "      <td>Right-hand drive</td>\n",
       "    </tr>\n",
       "    <tr>\n",
       "      <th>3994</th>\n",
       "      <td>45782188</td>\n",
       "      <td>13172</td>\n",
       "      <td>7063</td>\n",
       "      <td>TOYOTA</td>\n",
       "      <td>Alphard</td>\n",
       "      <td>2003</td>\n",
       "      <td>Minivan</td>\n",
       "      <td>Yes</td>\n",
       "      <td>LPG</td>\n",
       "      <td>3</td>\n",
       "      <td>190000</td>\n",
       "      <td>Automatic</td>\n",
       "      <td>04-May</td>\n",
       "      <td>Right-hand drive</td>\n",
       "    </tr>\n",
       "    <tr>\n",
       "      <th>17117</th>\n",
       "      <td>45781442</td>\n",
       "      <td>7213</td>\n",
       "      <td>7536</td>\n",
       "      <td>MITSUBISHI</td>\n",
       "      <td>Pajero</td>\n",
       "      <td>2000</td>\n",
       "      <td>Jeep</td>\n",
       "      <td>Yes</td>\n",
       "      <td>CNG</td>\n",
       "      <td>3.2</td>\n",
       "      <td>210000</td>\n",
       "      <td>Automatic</td>\n",
       "      <td>04-May</td>\n",
       "      <td>Right-hand drive</td>\n",
       "    </tr>\n",
       "    <tr>\n",
       "      <th>18957</th>\n",
       "      <td>44674964</td>\n",
       "      <td>14740</td>\n",
       "      <td>11706</td>\n",
       "      <td>MERCEDES-BENZ</td>\n",
       "      <td>E 500 AVG</td>\n",
       "      <td>2005</td>\n",
       "      <td>Sedan</td>\n",
       "      <td>Yes</td>\n",
       "      <td>Petrol</td>\n",
       "      <td>5</td>\n",
       "      <td>56000</td>\n",
       "      <td>Tiptronic</td>\n",
       "      <td>04-May</td>\n",
       "      <td>Right-hand drive</td>\n",
       "    </tr>\n",
       "    <tr>\n",
       "      <th>18984</th>\n",
       "      <td>45221191</td>\n",
       "      <td>11917</td>\n",
       "      <td>11714</td>\n",
       "      <td>MERCEDES-BENZ</td>\n",
       "      <td>E 500</td>\n",
       "      <td>2003</td>\n",
       "      <td>Sedan</td>\n",
       "      <td>Yes</td>\n",
       "      <td>Petrol</td>\n",
       "      <td>5</td>\n",
       "      <td>150000</td>\n",
       "      <td>Tiptronic</td>\n",
       "      <td>04-May</td>\n",
       "      <td>Right-hand drive</td>\n",
       "    </tr>\n",
       "  </tbody>\n",
       "</table>\n",
       "</div>"
      ],
      "text/plain": [
       "             ID  Price    Tax   Manufacturer      Model  Release_year  \\\n",
       "115    45534351  11917  11714  MERCEDES-BENZ  E 500 AMG          2003   \n",
       "2159   45804871  10349   7058         SUBARU     Legacy          2005   \n",
       "3994   45782188  13172   7063         TOYOTA    Alphard          2003   \n",
       "17117  45781442   7213   7536     MITSUBISHI     Pajero          2000   \n",
       "18957  44674964  14740  11706  MERCEDES-BENZ  E 500 AVG          2005   \n",
       "18984  45221191  11917  11714  MERCEDES-BENZ      E 500          2003   \n",
       "\n",
       "      Car_type Leather interior Fuel type Engine volume  Mileage  \\\n",
       "115      Sedan              Yes    Petrol             5   150000   \n",
       "2159     Sedan              Yes    Petrol             3   147000   \n",
       "3994   Minivan              Yes       LPG             3   190000   \n",
       "17117     Jeep              Yes       CNG           3.2   210000   \n",
       "18957    Sedan              Yes    Petrol             5    56000   \n",
       "18984    Sedan              Yes    Petrol             5   150000   \n",
       "\n",
       "      Transmission_type   Doors             Wheel  \n",
       "115           Tiptronic  04-May  Right-hand drive  \n",
       "2159          Tiptronic  04-May  Right-hand drive  \n",
       "3994          Automatic  04-May  Right-hand drive  \n",
       "17117         Automatic  04-May  Right-hand drive  \n",
       "18957         Tiptronic  04-May  Right-hand drive  \n",
       "18984         Tiptronic  04-May  Right-hand drive  "
      ]
     },
     "execution_count": 229,
     "metadata": {},
     "output_type": "execute_result"
    }
   ],
   "source": [
    "df[df[\"Tax\"].isin([11714, 11706, 7536, 7063, 7058])]"
   ]
  },
  {
   "cell_type": "markdown",
   "id": "72eea9aa",
   "metadata": {},
   "source": [
    "Просмотрев на автомобили с такими налогами стало понятно - **выбросов в признаке НЕТ!**"
   ]
  },
  {
   "cell_type": "markdown",
   "id": "f1d98631",
   "metadata": {},
   "source": [
    "Теперь проверим признак `Mileage`:"
   ]
  },
  {
   "cell_type": "code",
   "execution_count": 231,
   "id": "f4596dde",
   "metadata": {},
   "outputs": [
    {
     "data": {
      "text/plain": [
       "2278     2147483647\n",
       "6157     2147483647\n",
       "11901    2147483647\n",
       "12734    2147483647\n",
       "15347    2147483647\n",
       "15393    2147483647\n",
       "19167    2147483647\n",
       "17582    1777777778\n",
       "7724     1234567899\n",
       "9524     1111111111\n",
       "Name: Mileage, dtype: int32"
      ]
     },
     "execution_count": 231,
     "metadata": {},
     "output_type": "execute_result"
    }
   ],
   "source": [
    "df[\"Mileage\"].nlargest(10)"
   ]
  },
  {
   "cell_type": "markdown",
   "id": "052d2e80",
   "metadata": {},
   "source": [
    "Так, в этом признаке явно что-то аномальное. Проверим с помощью _межквартильного размаха(IQR)_.  \n",
    "<ins>Определение IQR</ins> - это статистическая мера, показывающая разброс средних 50% данных, отсекая крайние значения."
   ]
  },
  {
   "cell_type": "code",
   "execution_count": null,
   "id": "3fbdb49d",
   "metadata": {},
   "outputs": [
    {
     "data": {
      "text/plain": [
       "635"
      ]
     },
     "execution_count": 235,
     "metadata": {},
     "output_type": "execute_result"
    }
   ],
   "source": [
    "Q1_Mil = df[\"Mileage\"].quantile(0.25)\n",
    "Q3_Mil = df[\"Mileage\"].quantile(0.75)\n",
    "IQR_Mil = Q3_Mil-Q1_Mil\n",
    "up_bound_Mil = Q3_Mil + 1.5 * IQR_Mil\n",
    "down_bound_Mil = Q1_Mil - 1.5 * IQR_Mil\n",
    "\n",
    "errors = df[df[\"Mileage\"] > up_bound_Mil]\n",
    "errors_type_2 = df[df[\"Mileage\"] < down_bound_Mil]\n",
    "len(errors) # количество записей-выбросов выше верхней границы"
   ]
  },
  {
   "cell_type": "code",
   "execution_count": null,
   "id": "158e9f87",
   "metadata": {},
   "outputs": [
    {
     "data": {
      "text/plain": [
       "0"
      ]
     },
     "execution_count": 236,
     "metadata": {},
     "output_type": "execute_result"
    }
   ],
   "source": [
    "len(errors_type_2) # количество записей-выбросов ниже нижней границы"
   ]
  },
  {
   "cell_type": "markdown",
   "id": "4c44d70f",
   "metadata": {},
   "source": [
    "Проведя IQR для признака можно сделать вывод, что 635 значений - у нас точно являются выбросами или некорректными значениями.  \n",
    "Так как у нас почти __19000 строчек__, то принимаем решение по удалению этих выбросов."
   ]
  },
  {
   "cell_type": "code",
   "execution_count": null,
   "id": "d194ed9f",
   "metadata": {},
   "outputs": [
    {
     "data": {
      "text/plain": [
       "1086     367053\n",
       "7259     367000\n",
       "14709    367000\n",
       "4961     366869\n",
       "8948     366869\n",
       "9125     366869\n",
       "10944    366869\n",
       "15132    366869\n",
       "16628    366869\n",
       "9840     365810\n",
       "Name: Mileage, dtype: int32"
      ]
     },
     "execution_count": 238,
     "metadata": {},
     "output_type": "execute_result"
    }
   ],
   "source": [
    "df = df[df[\"Mileage\"] <= up_bound_Mil] # оставляем в Mileage только те значения, которые попали до верхней границы\n",
    "df[\"Mileage\"].nlargest(10)"
   ]
  },
  {
   "cell_type": "code",
   "execution_count": 239,
   "id": "609e3243",
   "metadata": {},
   "outputs": [
    {
     "data": {
      "text/plain": [
       "<Axes: xlabel='Mileage'>"
      ]
     },
     "execution_count": 239,
     "metadata": {},
     "output_type": "execute_result"
    },
    {
     "data": {
      "image/png": "[encoded data removed]",
      "text/plain": [
       "<Figure size 640x480 with 1 Axes>"
      ]
     },
     "metadata": {},
     "output_type": "display_data"
    }
   ],
   "source": [
    "sns.boxplot(x=df[\"Mileage\"])"
   ]
  },
  {
   "cell_type": "markdown",
   "id": "55b4d0d5",
   "metadata": {},
   "source": [
    "_Вывод_ - мы задетектировали выбросы в числовых признаках и их убрали."
   ]
  }
 ],
 "metadata": {
  "kernelspec": {
   "display_name": "CondaEnv_DS_ITMO",
   "language": "python",
   "name": "python3"
  },
  "language_info": {
   "codemirror_mode": {
    "name": "ipython",
    "version": 3
   },
   "file_extension": ".py",
   "mimetype": "text/x-python",
   "name": "python",
   "nbconvert_exporter": "python",
   "pygments_lexer": "ipython3",
   "version": "3.11.9"
  }
 },
 "nbformat": 4,
 "nbformat_minor": 5
}
